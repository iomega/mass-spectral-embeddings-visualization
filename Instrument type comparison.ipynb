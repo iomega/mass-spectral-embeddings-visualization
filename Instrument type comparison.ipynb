{
 "cells": [
  {
   "cell_type": "markdown",
   "id": "5a6f3a8e-15bd-4ae1-88bb-3eb1a7b7a940",
   "metadata": {},
   "source": [
    "# Summary of work"
   ]
  },
  {
   "cell_type": "markdown",
   "id": "86237cba-e091-47aa-8c9b-17413b26ae78",
   "metadata": {},
   "source": [
    "This notebook compares the t-SNE embeddings of the same planar Inchikeys between different instruments and instrument types. We find an unexpectedly high degree of similarity between the Velos CID and HCD platforms. The differences between other instrument types are markedly larger. The comparison between qToF and Orbitrap is inconclusive, possibly due to the high volume of data. <br>\n",
    "\n",
    "Note on the HTML format: because the interactive plots created with plotly inflated the notebook beyond the data limit of Github, I've converted it to a HTML file which is for some reason much smaller but preserves the interactivity of the plots. "
   ]
  },
  {
   "cell_type": "markdown",
   "id": "9d4af64b-056b-452b-adb6-7865f1409999",
   "metadata": {},
   "source": [
    "# Load libraries and functions"
   ]
  },
  {
   "cell_type": "code",
   "execution_count": 4,
   "id": "db5f7520-e10d-4c70-aa01-dac0011335a4",
   "metadata": {},
   "outputs": [],
   "source": [
    "import pickle\n",
    "import numpy as np\n",
    "import pandas as pd\n",
    "\n",
    "from plotly.subplots import make_subplots\n",
    "import plotly.graph_objects as go\n",
    "\n",
    "from processing import get_ids_for_unique_inchikeys\n",
    "colourdict = {\"qToF\": \"#ff0000\", \"CID\": \"#0000ff\", \"HCD\": \"#00ff00\", \"Orbitrap\": \"#87cefa\"}"
   ]
  },
  {
   "cell_type": "code",
   "execution_count": null,
   "id": "b06c6e3e-121b-4c12-8a1a-79be5227b8b3",
   "metadata": {},
   "outputs": [],
   "source": [
    "def comparison_on_common_inchi(query_strings, metadata_df, var = \"instrument\"):\n",
    "    ### Function\n",
    "    # Creates a list of dataframes, with one dataframe for each query string. \n",
    "    # These dataframes will only contain the metadata referring to spectra with planar Inchikeys all dataframes have in common, \n",
    "    # making comparison based on the variable feasible and fair.\n",
    "    #\n",
    "    ### Example\n",
    "    # comparison_on_common_inchi(query_strings = [\"CID\", \"HCD\"], var = \"instrument\", metadata_df = spectrum_metadata)\n",
    "    # This code will output a list of two dataframes, with metadata of spectra recorded by instruments containing 'CID' (datasets_with_common_inchi[0]),\n",
    "    # and one with the metadata of spectra recorded by instruments containing 'HCD' (datasets_with_common_inchi[1]). \n",
    "    # Only spectra with inchikeys that these datasets have in common will be included.\n",
    "    #\n",
    "    ### Input\n",
    "    # query_strings: list of strings you want seperate datasets for\n",
    "    # metadata_df: dataframe with spectrum metadata\n",
    "    # var: string of the column variable the query strings should be in\n",
    "    #\n",
    "    ### Output\n",
    "    # datasets_with_common_inchi: list of dataframes\n",
    "    #\n",
    "    ##############\n",
    "    \n",
    "    # Create subset based on query strings\n",
    "    datasets = []\n",
    "    inchi_data = []\n",
    "    for string in query_strings:\n",
    "        selection = metadata_df[metadata_df[var].str.contains(string, case = False)]\n",
    "        datasets.append(selection)\n",
    "        inchi_data.append(selection[\"planar_inchi\"])\n",
    "    \n",
    "    # List of unique var values in common\n",
    "    common_inchi = set.intersection(*map(set, inchi_data))S\n",
    "    print(len(common_inchi), \"unique planar Inchikeys in common between queries\")\n",
    "    \n",
    "    # Subset datasets to only the var values they have in common\n",
    "    datasets_with_common_inchi = []\n",
    "    for i, dataset in enumerate(datasets):\n",
    "        selection = dataset[dataset[\"planar_inchi\"].isin(common_inchi)]\n",
    "        datasets_with_common_inchi.append(selection)\n",
    "        print(f\"Found {len(selection)} spectra with common Inchikeys using query '{query_strings[i]}'\")\n",
    "        \n",
    "    return datasets_with_common_inchi"
   ]
  },
  {
   "cell_type": "markdown",
   "id": "05b42644-34e5-4484-9c7b-5e3a038f600a",
   "metadata": {},
   "source": [
    "# Load and prep data"
   ]
  },
  {
   "cell_type": "code",
   "execution_count": 15,
   "id": "4d4a1335-11d8-4edd-a68d-23d7849eadb2",
   "metadata": {},
   "outputs": [],
   "source": [
    "data_dir = \"C:/Users/Artur/Documents/Werk/Spec2Vec/Data/\"\n",
    "model_dir = \"C:/Users/Artur/Documents/Werk/Spec2Vec/Model/\"\n",
    "embedding_dir = \"C:/Users/Artur/Documents/Werk/Spec2Vec/Embeddings/\"\n",
    "\n",
    "# For now, we are only using the spectra that were obtained in positive ion-mode\n",
    "spectra = pd.read_pickle(data_dir+\"ALL_GNPS_210409_positive_cleaned_peaks_processed_s2v.pickle\")\n",
    "\n",
    "# Load the class predictions for each inchikey and shorten the inchikey to the first 14 characters. In case of duplicates, we keep the first occurence and drop the others.\n",
    "# We only use the first 14 characters of the inchikey (the so-called planar inchikey) because MS spectra cannot be used to meaningfully distinguish compounds beyond these features.\n",
    "inchikey_classifications = pd.read_csv(data_dir+\"ALL_GNPS_210409_positive_processed_annotated_CF_NPC_classes.txt\", sep = \"\\t\")\n",
    "inchikey_classifications.rename(columns = {\"inchi_key\": \"inchikey\"}, inplace = True) "
   ]
  },
  {
   "cell_type": "code",
   "execution_count": 6,
   "id": "4145a14e-f73e-44af-8be9-204fc0da7f6f",
   "metadata": {},
   "outputs": [
    {
     "name": "stdout",
     "output_type": "stream",
     "text": [
      "187152 out of 199780 spectra have an Inchikey\n",
      "16358 out of 187152 annotated spectra have a unique Inchikey\n"
     ]
    }
   ],
   "source": [
    "# We retrieve the inchikey and source instrument for all spectra, and look up the predicted classes for the inchikey.\n",
    "spectrum_id = []\n",
    "inchikeys = []\n",
    "instruments = []\n",
    "\n",
    "for spec in spectra:\n",
    "    #short_inchikey = spec.get(\"inchikey\")[:14]\n",
    "    inchikeys.append(spec.get(\"inchikey\"))\n",
    "    instruments.append(spec.get(\"instrument\"))\n",
    "    spectrum_id.append(spec.get(\"spectrum_id\"))\n",
    "spectrum_metadata = pd.DataFrame({\"ID\": spectrum_id, \"inchikey\":inchikeys, \"instrument\": instruments})\n",
    "\n",
    "# We drop all spectral records without inchikey and match the remaining records with npclassifier and classyfire compound class predictions\n",
    "spectrum_metadata = spectrum_metadata[spectrum_metadata[\"inchikey\"] != \"\"]\n",
    "spectrum_metadata = spectrum_metadata.merge(inchikey_classifications, on = \"inchikey\", how = \"left\")\n",
    "spectrum_metadata[\"planar_inchi\"] = [key[:14] for key in spectrum_metadata[\"inchikey\"]] # add shortened planar inchikey to metadata\n",
    "\n",
    "inchi_spectra = [spectra[i] for i in spectrum_metadata.index]\n",
    "print(f'{len(inchi_spectra)} out of {len(spectra)} spectra have an Inchikey')\n",
    "\n",
    "# We retrieve the IDs of spectra with unique planar Inchikeys\n",
    "unique_inchi = get_ids_for_unique_inchikeys(inchi_spectra)\n",
    "print(f'{len(unique_inchi)} out of {len(inchi_spectra)} annotated spectra have a unique Inchikey')"
   ]
  },
  {
   "cell_type": "code",
   "execution_count": 16,
   "id": "23d944b7-c6e9-46f8-a6b8-17b69f0d81ed",
   "metadata": {},
   "outputs": [],
   "source": [
    "# Read UMAP and t-SNE dataframes\n",
    "umap_df = pd.read_csv(embedding_dir+\"Annotated_weighted0.5_GNPS_210409_positive_UMAP_a1b1_neighbours15.csv\", sep=\"\\t\", index_col = 0)\n",
    "tsne_df = pd.read_csv(embedding_dir+\"Python395_sklearn0242_weighted_t-SNE_state42.csv\", sep=\",\", index_col = 0)\n",
    "tsne_df = pd.concat([tsne_df, spectrum_metadata], axis = 1)\n",
    "\n",
    "pca_tsne = pd.read_csv(embedding_dir+\"Annotated_weighted0.5_GNPS_210409_positive_PCA_t-SNE.csv\", sep=\"\\t\")\n",
    "\n",
    "tsne_louwen = pd.read_csv(embedding_dir+\"ALL_GNPS_210409_positive_cleaned_peaks_processed_s2v_only_annotated_tsne2D.csv\", sep=\",\", index_col = 0, names = [\"x\", \"y\"])\n",
    "tsne_louwen = tsne_louwen.merge(spectrum_metadata, how = \"inner\", left_index = True, right_on = \"ID\")"
   ]
  },
  {
   "cell_type": "markdown",
   "id": "1f80d7ab-f4e5-45ad-aabf-8f6e7ce7cebc",
   "metadata": {},
   "source": [
    "# Comparison of HCD and CID Velos instruments"
   ]
  },
  {
   "cell_type": "code",
   "execution_count": 8,
   "id": "f50b4629-354d-43be-b98e-1134390fce04",
   "metadata": {},
   "outputs": [
    {
     "name": "stdout",
     "output_type": "stream",
     "text": [
      "539 unique planar Inchikeys in common between queries\n",
      "Found 10087 spectra with common Inchikeys using query 'HCD; Velos'\n",
      "Found 9966 spectra with common Inchikeys using query 'CID; Velos'\n"
     ]
    }
   ],
   "source": [
    "# We'll start by comparing the spectra of the most popular HCD and CID instruments, which are the Velos platforms. \n",
    "# These comprise the vast majority of CID and HCD spectra, and are also nice to start with because they have so many planar inchikeys in common.\n",
    "HCD_CID_Velos = comparison_on_common_inchi(query_strings = [\"HCD; Velos\", \"CID; Velos\"], metadata_df=spectrum_metadata)"
   ]
  },
  {
   "cell_type": "code",
   "execution_count": null,
   "id": "c47add76-2ccb-4b1f-a884-d04f450e01c6",
   "metadata": {},
   "outputs": [],
   "source": [
    "fig = make_subplots(rows=1, cols=3, horizontal_spacing = 0.1, subplot_titles=('t-SNE embedding','PCA + t-SNE', '21/7 Joris t-SNE embedding'))\n",
    "colourdict = {\"HCD; Velos\": \"#00ff00\", \"CID; Velos\": \"#0000ff\"}\n",
    "\n",
    "for data in HCD_CID_Velos:\n",
    "    instrument = data[\"instrument\"].iloc[0]\n",
    "    fig.add_trace(go.Scattergl(x=tsne_df.iloc[data.index,0], y=tsne_df.iloc[data.index,1], legendgroup = instrument, name = instrument, mode='markers', marker_symbol = \"circle-open\", marker_color = colourdict[instrument], marker_size = 2), \n",
    "                  row=1, col=1)\n",
    "    fig.add_trace(go.Scattergl(x=pca_tsne.iloc[data.index,0], y=pca_tsne.iloc[data.index,1], legendgroup = instrument, name = instrument, mode='markers', marker_symbol = \"circle-open\", marker_color = colourdict[instrument], marker_size = 2, showlegend = False), \n",
    "                  row=1, col=2)\n",
    "    fig.add_trace(go.Scattergl(x=tsne_louwen.iloc[data.index,0], y=tsne_louwen.iloc[data.index,1], legendgroup = instrument, name = instrument, mode='markers', marker_symbol = \"circle-open\", marker_color = colourdict[instrument], marker_size = 2, showlegend = False), \n",
    "                  row=1, col=3)\n",
    "\n",
    "fig.update_layout(height=500, title_text=\"Spec2vec comparison of Velos HCD and Velos CID\", title_x=0.5, titlefont=dict(size=24), legend={'itemsizing': 'constant'})\n",
    "fig.update_yaxes(range=[-45, 45]); fig.update_xaxes(range=[-45, 45])\n",
    "fig.show()"
   ]
  },
  {
   "cell_type": "markdown",
   "id": "38dcd808-6901-4aaf-92f3-752b62acd054",
   "metadata": {},
   "source": [
    "# Comparison of qToF and CID instrument types"
   ]
  },
  {
   "cell_type": "code",
   "execution_count": 9,
   "id": "1fa1fb3d-746b-4ba8-975e-f0577abc425a",
   "metadata": {},
   "outputs": [
    {
     "name": "stdout",
     "output_type": "stream",
     "text": [
      "68 unique planar Inchikeys in common between queries\n",
      "Found 204 spectra with common Inchikeys using query 'tof'\n",
      "Found 2598 spectra with common Inchikeys using query 'CID'\n"
     ]
    }
   ],
   "source": [
    "qToF_CID = comparison_on_common_inchi(query_strings = [\"tof\", \"CID\"], metadata_df=spectrum_metadata)"
   ]
  },
  {
   "cell_type": "code",
   "execution_count": null,
   "id": "cb5af9c4-2555-4747-9130-eda9c4976abe",
   "metadata": {},
   "outputs": [],
   "source": [
    "fig = make_subplots(rows=1, cols=3, horizontal_spacing = 0.1, subplot_titles=('t-SNE embedding','PCA + t-SNE', '21/7 Joris t-SNE embedding'))\n",
    "colourdict = {\"qToF\": \"#ff0000\", \"CID\": \"#0000ff\", \"HCD\": \"#00ff00\", \"Orbitrap\": \"#87cefa\"}\n",
    "\n",
    "for i, data in enumerate(qToF_CID):\n",
    "    instrument = [\"qToF\", \"CID\"][i]\n",
    "    fig.add_trace(go.Scattergl(x=tsne_df.iloc[data.index,0], y=tsne_df.iloc[data.index,1], legendgroup = instrument, name = instrument, mode='markers', marker_symbol = \"circle-open\", marker_color = colourdict[instrument], marker_size = 2), \n",
    "                  row=1, col=1)\n",
    "    fig.add_trace(go.Scattergl(x=pca_tsne.iloc[data.index,0], y=pca_tsne.iloc[data.index,1], legendgroup = instrument, name = instrument, mode='markers', marker_symbol = \"circle-open\", marker_color = colourdict[instrument], marker_size = 2, showlegend = False), \n",
    "                  row=1, col=2)\n",
    "    fig.add_trace(go.Scattergl(x=tsne_louwen.iloc[data.index,0], y=tsne_louwen.iloc[data.index,1], legendgroup = instrument, name = instrument, mode='markers', marker_symbol = \"circle-open\", marker_color = colourdict[instrument], marker_size = 2, showlegend = False), \n",
    "                  row=1, col=3)\n",
    "\n",
    "fig.update_layout(height=500, title_text=\"Spec2vec comparison of qToF and CID instrument types\", title_x=0.5, titlefont=dict(size=24), legend={'itemsizing': 'constant'})\n",
    "fig.update_yaxes(range=[-45, 45]); fig.update_xaxes(range=[-45, 45])\n",
    "fig.show()"
   ]
  },
  {
   "cell_type": "markdown",
   "id": "958fad10-0d85-44a3-aa79-fdde934506d7",
   "metadata": {},
   "source": [
    "# Comparison of qToF and HCD instrument types"
   ]
  },
  {
   "cell_type": "code",
   "execution_count": 10,
   "id": "75a0ca95-f3d1-413c-a5b4-6b49b5c82f5a",
   "metadata": {},
   "outputs": [
    {
     "name": "stdout",
     "output_type": "stream",
     "text": [
      "78 unique planar Inchikeys in common between queries\n",
      "Found 332 spectra with common Inchikeys using query 'tof'\n",
      "Found 2672 spectra with common Inchikeys using query 'HCD'\n"
     ]
    }
   ],
   "source": [
    "qToF_HCD = comparison_on_common_inchi(query_strings = [\"tof\", \"HCD\"], metadata_df=spectrum_metadata)"
   ]
  },
  {
   "cell_type": "code",
   "execution_count": null,
   "id": "6a79a889-5b61-4bf0-afe4-42ffce7384fb",
   "metadata": {},
   "outputs": [],
   "source": [
    "fig = make_subplots(rows=1, cols=3, horizontal_spacing = 0.1, subplot_titles=('t-SNE embedding','PCA + t-SNE', '21/7 Joris t-SNE embedding'))\n",
    "colourdict = {\"qToF\": \"#ff0000\", \"CID\": \"#0000ff\", \"HCD\": \"#00ff00\", \"Orbitrap\": \"#87cefa\"}\n",
    "\n",
    "for i, data in enumerate(qToF_HCD):\n",
    "    instrument = [\"qToF\", \"HCD\"][i]\n",
    "    fig.add_trace(go.Scattergl(x=tsne_df.iloc[data.index,0], y=tsne_df.iloc[data.index,1], legendgroup = instrument, name = instrument, mode='markers', marker_symbol = \"circle-open\", marker_color = colourdict[instrument], marker_size = 2), \n",
    "                  row=1, col=1)\n",
    "    fig.add_trace(go.Scattergl(x=pca_tsne.iloc[data.index,0], y=pca_tsne.iloc[data.index,1], legendgroup = instrument, name = instrument, mode='markers', marker_symbol = \"circle-open\", marker_color = colourdict[instrument], marker_size = 2, showlegend = False), \n",
    "                  row=1, col=2)\n",
    "    fig.add_trace(go.Scattergl(x=tsne_louwen.iloc[data.index,0], y=tsne_louwen.iloc[data.index,1], legendgroup = instrument, name = instrument, mode='markers', marker_symbol = \"circle-open\", marker_color = colourdict[instrument], marker_size = 2, showlegend = False), \n",
    "                  row=1, col=3)\n",
    "\n",
    "fig.update_layout(height=500, title_text=\"Spec2vec comparison of qToF and HCD instrument types\", title_x=0.5, titlefont=dict(size=24), legend={'itemsizing': 'constant'})\n",
    "fig.update_yaxes(range=[-45, 45]); fig.update_xaxes(range=[-45, 45])\n",
    "fig.show()"
   ]
  },
  {
   "cell_type": "markdown",
   "id": "2bcd2a55-6bb7-4c91-8b94-af98365897e6",
   "metadata": {},
   "source": [
    "# Comparison qToF and Orbitrap"
   ]
  },
  {
   "cell_type": "code",
   "execution_count": 11,
   "id": "0283d627-9789-4d60-a1ab-224e825c6305",
   "metadata": {},
   "outputs": [
    {
     "name": "stdout",
     "output_type": "stream",
     "text": [
      "1892 unique planar Inchikeys in common between queries\n",
      "Found 10808 spectra with common Inchikeys using query 'tof'\n",
      "Found 47637 spectra with common Inchikeys using query 'orbitrap'\n"
     ]
    }
   ],
   "source": [
    "qToF_orbitrap = comparison_on_common_inchi(query_strings = [\"tof\", \"orbitrap\"], metadata_df=spectrum_metadata)"
   ]
  },
  {
   "cell_type": "code",
   "execution_count": null,
   "id": "8f6baf07-9366-4f63-b7e0-be01fc1e3489",
   "metadata": {},
   "outputs": [],
   "source": [
    "fig = make_subplots(rows=1, cols=3, horizontal_spacing = 0.1, subplot_titles=('t-SNE embedding','PCA + t-SNE', '21/7 Joris t-SNE embedding'))\n",
    "colourdict = {\"qToF\": \"#ff0000\", \"CID\": \"#0000ff\", \"HCD\": \"#00ff00\", \"Orbitrap\": \"#87cefa\"}\n",
    "\n",
    "for i, data in enumerate(qToF_orbitrap):\n",
    "    instrument = [\"qToF\", \"Orbitrap\"][i]\n",
    "    fig.add_trace(go.Scattergl(x=tsne_df.iloc[data.index,0], y=tsne_df.iloc[data.index,1], legendgroup = instrument, name = instrument, mode='markers', marker_symbol = \"circle-open\", marker_color = colourdict[instrument], marker_size = 2), \n",
    "                  row=1, col=1)\n",
    "    fig.add_trace(go.Scattergl(x=pca_tsne.iloc[data.index,0], y=pca_tsne.iloc[data.index,1], legendgroup = instrument, name = instrument, mode='markers', marker_symbol = \"circle-open\", marker_color = colourdict[instrument], marker_size = 2, showlegend = False), \n",
    "                  row=1, col=2)\n",
    "    fig.add_trace(go.Scattergl(x=tsne_louwen.iloc[data.index,0], y=tsne_louwen.iloc[data.index,1], legendgroup = instrument, name = instrument, mode='markers', marker_symbol = \"circle-open\", marker_color = colourdict[instrument], marker_size = 2, showlegend = False), \n",
    "                  row=1, col=3)\n",
    "\n",
    "fig.update_layout(height=500, title_text=\"Spec2vec comparison of qToF and HCD instrument types\", title_x=0.5, titlefont=dict(size=24), legend={'itemsizing': 'constant'})\n",
    "fig.update_yaxes(range=[-45, 45]); fig.update_xaxes(range=[-45, 45])\n",
    "fig.show()"
   ]
  }
 ],
 "metadata": {
  "kernelspec": {
   "display_name": "Python 3",
   "language": "python",
   "name": "python3"
  },
  "language_info": {
   "codemirror_mode": {
    "name": "ipython",
    "version": 3
   },
   "file_extension": ".py",
   "mimetype": "text/x-python",
   "name": "python",
   "nbconvert_exporter": "python",
   "pygments_lexer": "ipython3",
   "version": "3.7.10"
  }
 },
 "nbformat": 4,
 "nbformat_minor": 5
}

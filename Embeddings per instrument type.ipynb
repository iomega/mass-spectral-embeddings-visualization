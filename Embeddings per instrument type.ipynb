{
 "cells": [
  {
   "cell_type": "markdown",
   "id": "d30ee180-e995-4dc0-9c13-1b8f7cd3b781",
   "metadata": {},
   "source": [
    "# Summary of work"
   ]
  },
  {
   "cell_type": "markdown",
   "id": "b2a15467-3305-4b3d-9597-b2f66fd5a154",
   "metadata": {},
   "source": [
    "This notebook explores if there is a benefit to embedding spectra from different instrument types seperately."
   ]
  },
  {
   "cell_type": "code",
   "execution_count": null,
   "id": "3781e95b-825c-43d6-b94e-ee5fb0cbc9e7",
   "metadata": {},
   "outputs": [],
   "source": []
  }
 ],
 "metadata": {
  "kernelspec": {
   "display_name": "Python 3",
   "language": "python",
   "name": "python3"
  },
  "language_info": {
   "codemirror_mode": {
    "name": "ipython",
    "version": 3
   },
   "file_extension": ".py",
   "mimetype": "text/x-python",
   "name": "python",
   "nbconvert_exporter": "python",
   "pygments_lexer": "ipython3",
   "version": "3.7.10"
  }
 },
 "nbformat": 4,
 "nbformat_minor": 5
}

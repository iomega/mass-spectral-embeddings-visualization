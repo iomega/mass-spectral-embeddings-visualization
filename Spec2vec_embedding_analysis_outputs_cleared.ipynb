{
 "cells": [
  {
   "cell_type": "markdown",
   "id": "b81df9ee",
   "metadata": {},
   "source": [
    "The purpose of this notebook is to analyze spec2vec mass spectral embeddings using PCA, t-SNE and UMAP.\n",
    "It has several parts.\n",
    "\n",
    "1) Post process \"raw\" spectra with matchms.\n",
    "\n",
    "2) Creating a subset of the imported dataset, based on how many times a certain InChIkey occurs in the dataset.\n",
    "\n",
    "3) Performing dimension reduction techniques and plotting, categorizing on InChIkeys or compound names\n",
    "\n",
    "4) Performing dimension reduction techniques and plotting, categorizing based on classification (superclass/class/subclass)"
   ]
  },
  {
   "cell_type": "markdown",
   "id": "0beb7661",
   "metadata": {},
   "source": [
    "First, define the path to the data folder:"
   ]
  },
  {
   "cell_type": "code",
   "execution_count": null,
   "id": "5dd1cb24",
   "metadata": {},
   "outputs": [],
   "source": [
    "import os\n",
    "import sys\n",
    "import gensim\n",
    "import numpy as np\n",
    "import pandas as pd\n",
    "from matplotlib import pyplot as plt\n",
    "\n",
    "ROOT = os.path.dirname(os.getcwd())\n",
    "path_data = '/mnt/scratch/rebac002/data/AllPositive2'\n",
    "sys.path.insert(0, ROOT)"
   ]
  },
  {
   "cell_type": "markdown",
   "id": "e09b5e87",
   "metadata": {},
   "source": [
    "Picking the correct file (AllPositive2 dataset):"
   ]
  },
  {
   "cell_type": "code",
   "execution_count": null,
   "id": "c07ae6d0",
   "metadata": {},
   "outputs": [],
   "source": [
    "import pickle\n",
    "outfile = os.path.join(path_data,'ALL_GNPS_210125_positive_cleaned_by_matchms_and_lookups.pickle')\n",
    "with open(outfile, 'rb') as filename:\n",
    "    spectrums = pickle.load(filename)"
   ]
  },
  {
   "cell_type": "code",
   "execution_count": null,
   "id": "c1bf0555",
   "metadata": {
    "scrolled": true
   },
   "outputs": [],
   "source": [
    "number_of_peaks = [len(spec.peaks) for spec in spectrums]\n",
    "#plt.figure(figsize=(12,7))\n",
    "#hist = plt.hist(number_of_peaks, np.arange(0,2000,20))\n",
    "#plt.xlabel(\"number of peaks in spectrum\")\n",
    "#plt.ylabel(\"number of spectra in respective bin\")"
   ]
  },
  {
   "cell_type": "markdown",
   "id": "89243248",
   "metadata": {},
   "source": [
    "**Post-process data**\n",
    "\n",
    "We here do different post-processing for either the \"classical\" scores (Cosine, modified Cosine) or Spe2Vec. The reason for this is mostly to make sure that we do full justice to the classical similarity measures.\n",
    "\n",
    "**Post-processing for Spec2Vec**\n",
    "Spec2Vec similarity scores rely on creating a document vector for each spectrum. For the underlying word2vec model we want the documents (=spectra) to be more homogeneous in their number of unique words. Assuming that larger compounds will on average break down into a higher number of meaningful fragment peaks we reduce the document size of each spectrum according to its parent mass.\n",
    "\n",
    "-normalize peaks (maximum intensity to 1)\n",
    "-remove peaks outside [0, 1000] m/z window\n",
    "-remove spectra with < 10 peaks\n",
    "-reduce number of peaks to maximum of 0.5 * parent mass\n",
    "-remove peaks with intensities < 0.001 of maximum intensity (unless this brings number of peaks to less than 10)"
   ]
  },
  {
   "cell_type": "code",
   "execution_count": null,
   "id": "5892b336",
   "metadata": {},
   "outputs": [],
   "source": [
    "from matchms.filtering import normalize_intensities\n",
    "from matchms.filtering import require_minimum_number_of_peaks\n",
    "from matchms.filtering import select_by_mz\n",
    "from matchms.filtering import reduce_to_number_of_peaks\n",
    "from matchms.filtering import select_by_relative_intensity\n",
    "from matchms.filtering import add_losses\n",
    "\n",
    "\n",
    "def post_process_s2v(s):\n",
    "    s = normalize_intensities(s)\n",
    "    s = select_by_mz(s, mz_from=0, mz_to=1000)\n",
    "    s = require_minimum_number_of_peaks(s, n_required=10)\n",
    "    s = reduce_to_number_of_peaks(s, n_required=10, ratio_desired=0.5)\n",
    "    if s is None:\n",
    "        return None\n",
    "    s_remove_low_peaks = select_by_relative_intensity(s, intensity_from=0.001)\n",
    "    if len(s_remove_low_peaks.peaks) >= 10:\n",
    "        s = s_remove_low_peaks\n",
    "        \n",
    "    s = add_losses(s, loss_mz_from=5.0, loss_mz_to=200.0)\n",
    "    return s\n",
    "\n",
    "# apply post processing steps to the data\n",
    "spectrums_s2v = [post_process_s2v(s) for s in spectrums]\n",
    "\n",
    "# omit spectrums that didn't qualify for analysis\n",
    "spectrums_s2v = [s for s in spectrums_s2v if s is not None]\n",
    "\n",
    "print(\"{} remaining spectra.\".format(len(spectrums_s2v)))"
   ]
  },
  {
   "cell_type": "code",
   "execution_count": null,
   "id": "a2b38af7",
   "metadata": {},
   "outputs": [],
   "source": [
    "pickle.dump(spectrums_s2v, \n",
    "            open(os.path.join(path_data,'ALL_GNPS_210125_positive_cleaned_by_matchms_and_lookups.pickle'), \"wb\"))"
   ]
  },
  {
   "cell_type": "code",
   "execution_count": null,
   "id": "2f123e95",
   "metadata": {},
   "outputs": [],
   "source": [
    "#load a pre-cleaned file(optional, can also use the spectrums_s2v from above)\n",
    "outfile = os.path.join(path_data,'ALL_GNPS_210125_positive_cleaned_by_matchms_and_lookups.pickle')\n",
    "with open(outfile, 'rb') as file:\n",
    "    spectrums_s2v = pickle.load(file)"
   ]
  },
  {
   "cell_type": "code",
   "execution_count": null,
   "id": "e6b716db",
   "metadata": {
    "scrolled": false
   },
   "outputs": [],
   "source": [
    "number_of_peaks = [len(spec.peaks) for spec in spectrums_s2v]\n",
    "#plt.figure(figsize=(12,7))\n",
    "#hist = plt.hist(number_of_peaks, np.arange(0,2000,20))\n",
    "#plt.xlabel(\"number of peaks in spectrum\")\n",
    "#plt.ylabel(\"number of spectra in respective bin\")"
   ]
  },
  {
   "cell_type": "markdown",
   "id": "04e4e4de",
   "metadata": {},
   "source": [
    "**IMPORTANT!**\n",
    "Here you select spectra containing inchikeys to build a pandas dataframe. Later on for classification, classes are based on an inchikey, so if there is no inchikey in the metadata of a certain spectrum, errors are likely to arise, and is the reasoning behind this."
   ]
  },
  {
   "cell_type": "code",
   "execution_count": null,
   "id": "fe1ba206",
   "metadata": {
    "scrolled": true
   },
   "outputs": [],
   "source": [
    "Inchikeys = []\n",
    "for spec in spectrums_s2v:\n",
    "    Inchikeys.append(spec.get(\"inchikey\"))\n",
    "\n",
    "inchikeys_pd = pd.Series([x for x in Inchikeys if x]) #select spectra that DO contain inchikeys in metadata\n",
    "#inchikeys_pd.str[:14].value_counts()[:20]"
   ]
  },
  {
   "cell_type": "code",
   "execution_count": null,
   "id": "be4fbc7e",
   "metadata": {},
   "outputs": [],
   "source": [
    "print(len(Inchikeys))\n",
    "print(len(inchikeys_pd))"
   ]
  },
  {
   "cell_type": "markdown",
   "id": "4b235d79",
   "metadata": {},
   "source": [
    "Check how complete the metadata of the spectra is:"
   ]
  },
  {
   "cell_type": "code",
   "execution_count": null,
   "id": "ade7a869",
   "metadata": {},
   "outputs": [],
   "source": [
    "spectra_with_inchikey = []\n",
    "spectra_with_compound_name = []\n",
    "spectra_with_inchi_name = []\n",
    "for s in spectrums_s2v:\n",
    "    if len(s.get(\"inchikey\")) >= 14:\n",
    "        spectra_with_inchikey.append(s)\n",
    "    if len(s.get(\"compound_name\")) > 0:\n",
    "        spectra_with_compound_name.append(s)\n",
    "    if len(s.get(\"inchikey\")) >= 14 and len(s.get(\"compound_name\")) >0:\n",
    "        spectra_with_inchi_name.append(s)\n",
    "    \n",
    "print(len(spectra_with_inchikey)) #spectra with inchikey\n",
    "print(len(spectra_with_compound_name)) #spectra with compound name\n",
    "print(len(spectra_with_inchi_name)) #spectra with both inchikey and compound name"
   ]
  },
  {
   "cell_type": "code",
   "execution_count": null,
   "id": "9cb9e4b8",
   "metadata": {},
   "outputs": [],
   "source": [
    "#(optional)Plot inchikey occurrences\n",
    "#plt.figure(figsize=(12,6))\n",
    "#plt.hist(inchikeys_pd.str[:14].value_counts(), np.linspace(0, 60, 60))\n",
    "#plt.xlabel('Number of occurences of inchikey')\n",
    "#plt.ylabel('Number of inchikeys with respective number of occurences')"
   ]
  },
  {
   "cell_type": "markdown",
   "id": "4b2a601d",
   "metadata": {},
   "source": [
    "**Randomly select 1000 inchikeys that exist >=min_copies_in_data times in the dataset**\n",
    "\n",
    "This is where the subset is made. If you want to use the whole dataset, **min_copies_in_data should** be 1, and **num_spectra** should be equal to the length of **suitable_inchikeys**"
   ]
  },
  {
   "cell_type": "code",
   "execution_count": null,
   "id": "74e5588d",
   "metadata": {
    "scrolled": true
   },
   "outputs": [],
   "source": [
    "min_copies_in_data = 1 #min nr of spectra per inchikey\n",
    "\n",
    "suitable_inchikeys = pd.DataFrame(inchikeys_pd.str[:14].value_counts()[inchikeys_pd.str[:14].value_counts().values >= min_copies_in_data])\n",
    "suitable_inchikeys.reset_index(level=suitable_inchikeys.index.names, inplace=True)\n",
    "suitable_inchikeys.columns = (['inchikey14', 'occurences'])\n",
    "\n",
    "# Important: sort values to make it reproducible (same occurences have random order otherwise!)\n",
    "suitable_inchikeys = suitable_inchikeys.sort_values(['occurences', 'inchikey14'], ascending=False)"
   ]
  },
  {
   "cell_type": "code",
   "execution_count": null,
   "id": "c1cddd95",
   "metadata": {},
   "outputs": [],
   "source": [
    "print(len(suitable_inchikeys))"
   ]
  },
  {
   "cell_type": "markdown",
   "id": "586c5f6c",
   "metadata": {},
   "source": [
    "Here, select the inchikeys:"
   ]
  },
  {
   "cell_type": "code",
   "execution_count": null,
   "id": "42193b0d",
   "metadata": {},
   "outputs": [],
   "source": [
    "num_spectra = 14488 #how many do you want to randomly select?\n",
    "np.random.seed(35) # to make it reproducible\n",
    "\n",
    "selection = np.random.choice(suitable_inchikeys.shape[0], num_spectra, replace=False)\n",
    "selected_inchikeys = suitable_inchikeys['inchikey14'].values[selection]\n",
    "#selected_inchikeys"
   ]
  },
  {
   "cell_type": "code",
   "execution_count": null,
   "id": "112f3bae",
   "metadata": {},
   "outputs": [],
   "source": [
    "print(len(selected_inchikeys))"
   ]
  },
  {
   "cell_type": "markdown",
   "id": "82b01ad7",
   "metadata": {},
   "source": [
    "Now that we selcted the inchikeys, we need to trace back which spectra they represent and select those spectra:"
   ]
  },
  {
   "cell_type": "code",
   "execution_count": null,
   "id": "868c5b52",
   "metadata": {},
   "outputs": [],
   "source": [
    "selected_spectra = []\n",
    "inchikeys_pd_full = pd.Series([x for x in Inchikeys]) #include all even empty ones to get the IDs right!\n",
    "np.random.seed(35) # to make it reproducible\n",
    "for inchikey in selected_inchikeys:\n",
    "    matches = inchikeys_pd_full[inchikeys_pd_full.str[:14] == inchikey].index.values\n",
    "    selected_spectra.extend(matches)"
   ]
  },
  {
   "cell_type": "code",
   "execution_count": null,
   "id": "7347c231",
   "metadata": {},
   "outputs": [],
   "source": [
    "print(len(selected_spectra))"
   ]
  },
  {
   "cell_type": "markdown",
   "id": "1de7f562",
   "metadata": {},
   "source": [
    "Import model pre-trained on AllPositive2 dataset (will need it for vector calculation):"
   ]
  },
  {
   "cell_type": "code",
   "execution_count": null,
   "id": "881c42fa",
   "metadata": {},
   "outputs": [],
   "source": [
    "filename_path = \"ALL_GNPS_210125_positive_cleaned_by_matchms_and_lookups_spec2vec_embedding_iter_15.model\"\n",
    "filename_model = os.path.join(path_data, filename_path)\n",
    "\n",
    "pretrained_model = gensim.models.Word2Vec.load(filename_model)"
   ]
  },
  {
   "cell_type": "code",
   "execution_count": null,
   "id": "b72bd38a",
   "metadata": {},
   "outputs": [],
   "source": [
    "from spec2vec import SpectrumDocument\n",
    "\n",
    "spectrum_documents = [SpectrumDocument(s, n_decimals=2) for i, s in enumerate(spectrums_s2v) if i in selected_spectra]"
   ]
  },
  {
   "cell_type": "markdown",
   "id": "cd303e50",
   "metadata": {},
   "source": [
    "The function \"calc_vector\" calculates only a single vector from a single document. To make it calculate all our vectors from spectrum_documents, a for loop is used. I also used a numpy array instead of a regular list to improve performance. Each \"single_vector\" is a list of 300 (dimensions), and there are 1313 \"single_vector\"s in total."
   ]
  },
  {
   "cell_type": "code",
   "execution_count": null,
   "id": "06d899aa",
   "metadata": {},
   "outputs": [],
   "source": [
    "from typing import Union\n",
    "import numba\n",
    "from gensim.models.basemodel import BaseTopicModel\n",
    "from spec2vec.Document import Document\n",
    "from spec2vec.vector_operations import calc_vector\n",
    "\n",
    "list_of_vectors = []\n",
    "for i in spectrum_documents:\n",
    "    single_vector = calc_vector(pretrained_model, i)\n",
    "    list_of_vectors.append(single_vector)\n",
    "    \n",
    "spec_vectors = np.stack(list_of_vectors)"
   ]
  },
  {
   "cell_type": "code",
   "execution_count": null,
   "id": "8c367052",
   "metadata": {},
   "outputs": [],
   "source": [
    "print(len(spec_vectors))"
   ]
  },
  {
   "cell_type": "markdown",
   "id": "70c5b186",
   "metadata": {},
   "source": [
    "Before going on to visualization, indices for the spectra will be needed. Or in other words, a list with the same length as spec_vectors, where spec_inchikeys[0] will represent the inchikey of spec_vectors[0].\n",
    "\n",
    "In order to do this, the same order of spectra needs to be preserved as was made in spectrum_documents. So we will generate a properly ordered list of selected spectra, and retreive the inchikeys for them."
   ]
  },
  {
   "cell_type": "code",
   "execution_count": null,
   "id": "febdba61",
   "metadata": {},
   "outputs": [],
   "source": [
    "spec_inchikeys = [] #new list for inchikeys matching spec_vectors\n",
    "\n",
    "for i, s in enumerate(spectrums_s2v):\n",
    "    if i in selected_spectra:\n",
    "        if len(s.metadata.get(\"inchikey\"[:14])) >= 14:\n",
    "            spec_inchikeys.append(s.metadata.get(\"inchikey\")[:14])\n",
    "        else:\n",
    "            spec_inchikeys.append(\"Undefined\")"
   ]
  },
  {
   "cell_type": "code",
   "execution_count": null,
   "id": "c7b1f2bf",
   "metadata": {},
   "outputs": [],
   "source": [
    "print(len(spec_inchikeys))"
   ]
  },
  {
   "cell_type": "code",
   "execution_count": null,
   "id": "7f955dce",
   "metadata": {},
   "outputs": [],
   "source": [
    "chosen_spectra = [] #list of ACTUAL spectra with metadata, not to be\n",
    "                    #confused with  selected_spectra!\n",
    "\n",
    "for i, s in enumerate(spectrums_s2v):\n",
    "    if i in selected_spectra:\n",
    "        chosen_spectra.append(s)"
   ]
  },
  {
   "cell_type": "code",
   "execution_count": null,
   "id": "1c104d2b",
   "metadata": {},
   "outputs": [],
   "source": [
    "print(len(chosen_spectra))"
   ]
  },
  {
   "cell_type": "markdown",
   "id": "8a53f96c",
   "metadata": {},
   "source": [
    "We will also make a list like that for compound names, ready to use as an index:"
   ]
  },
  {
   "cell_type": "code",
   "execution_count": null,
   "id": "18f6b8d5",
   "metadata": {},
   "outputs": [],
   "source": [
    "#first create a dictionary of inchikeys as keys and names as values\n",
    "inchikey_name_dict = {}\n",
    "for i, s in enumerate(spectrums_s2v):\n",
    "    if i in selected_spectra:\n",
    "        inchikey = s.get(\"inchikey\")\n",
    "        if len(inchikey) >= 14:\n",
    "            inchikey = inchikey[:14]\n",
    "        else:\n",
    "            inchikey = \"Undefined\"\n",
    "        name = s.get(\"compound_name\")\n",
    "        if len(name) == 0:\n",
    "            name = \"Undefined\"\n",
    "        if inchikey in inchikey_name_dict:\n",
    "            inchikey_name_dict[inchikey].append(name)\n",
    "        else:\n",
    "            inchikey_name_dict[inchikey] = [name]"
   ]
  },
  {
   "cell_type": "code",
   "execution_count": null,
   "id": "7fb9c50a",
   "metadata": {},
   "outputs": [],
   "source": [
    "spec_names = []\n",
    "for inchikey in spec_inchikeys:\n",
    "    possible_names = inchikey_name_dict[inchikey]\n",
    "    shortest_len = min([len(possible_name) for possible_name in possible_names if len(possible_name) > 0])\n",
    "    shortest_name=[name for name in possible_names if len(name) == shortest_len]\n",
    "    spec_names.append(shortest_name[0])"
   ]
  },
  {
   "cell_type": "code",
   "execution_count": null,
   "id": "0b5b1b75",
   "metadata": {},
   "outputs": [],
   "source": [
    "print(len(spec_names))"
   ]
  },
  {
   "cell_type": "markdown",
   "id": "183e5659",
   "metadata": {},
   "source": [
    "**=========PLOT USING INCHIKEYS AS LEGEND=========**"
   ]
  },
  {
   "cell_type": "markdown",
   "id": "e02e9769",
   "metadata": {},
   "source": [
    "**PCA VISUALIZATION**"
   ]
  },
  {
   "cell_type": "code",
   "execution_count": null,
   "id": "96118bfc",
   "metadata": {},
   "outputs": [],
   "source": [
    "#Build the dataset\n",
    "spec_dataset = pd.DataFrame(spec_vectors, index=spec_inchikeys,\n",
    "                            columns = [str(i) for i in range(spec_vectors.shape[1])])"
   ]
  },
  {
   "cell_type": "markdown",
   "id": "a944b1ce",
   "metadata": {},
   "source": [
    "To plot in seaborn"
   ]
  },
  {
   "cell_type": "code",
   "execution_count": null,
   "id": "b59df610",
   "metadata": {},
   "outputs": [],
   "source": [
    "import matplotlib.pyplot as plt\n",
    "import seaborn as sns\n",
    "import pandas as pd\n",
    "import numpy as np\n",
    "%matplotlib inline\n",
    "from sklearn import decomposition\n",
    "\n",
    "#perform PCA\n",
    "pca_seaborn = decomposition.PCA(n_components=3)\n",
    "pca_seaborn_results = pca_seaborn.fit_transform(spec_dataset)"
   ]
  },
  {
   "cell_type": "code",
   "execution_count": null,
   "id": "0712fc84",
   "metadata": {},
   "outputs": [],
   "source": [
    "pca_seaborn.explained_variance_ratio_"
   ]
  },
  {
   "cell_type": "code",
   "execution_count": null,
   "id": "10e9578f",
   "metadata": {},
   "outputs": [],
   "source": [
    "#define X and Y axes\n",
    "spec_dataset['PC1'] = pca_seaborn_results[:,0]\n",
    "spec_dataset['PC2'] = pca_seaborn_results[:,1]\n",
    "\n",
    "#plot\n",
    "plt.figure(figsize=(15,9))\n",
    "plot = sns.scatterplot(x='PC1', y='PC2',\n",
    "           data=spec_dataset, palette=sns.color_palette(\"hls\", 40),\n",
    "            hue=spec_dataset.index, s=15,\n",
    "            legend=\"full\") #legend=False to disable, legend=\"full\" to enable\n",
    "\n",
    "\n",
    "\n",
    "plot.set(xlim=(-1000, 1700))\n",
    "plot.set(ylim=(-1200, 2000))\n",
    "#position the legend next to the graph; edit integers to change position\n",
    "#WARNING! If the legend causes the plot to be too large, it will not be plotted!\n",
    "\n",
    "box = plot.get_position()\n",
    "plot.set_position([box.x0, box.y0, box.width * 0.85, box.height]) # resize position\n",
    "# Put a legend to the right side and determine amount of columns\n",
    "nr_columns = int(len(selected_inchikeys)/40)\n",
    "if nr_columns == 0:\n",
    "    nr_columns += 1\n",
    "anchor_x = 1 + (nr_columns*0.25)\n",
    "plot.legend(loc='center right', bbox_to_anchor=(anchor_x, 0.5), ncol=nr_columns)\n"
   ]
  },
  {
   "cell_type": "markdown",
   "id": "46bc6e12",
   "metadata": {},
   "source": [
    "**t-SNE VISUALIZATION**"
   ]
  },
  {
   "cell_type": "code",
   "execution_count": null,
   "id": "f4e972f1",
   "metadata": {},
   "outputs": [],
   "source": [
    "from __future__ import print_function\n",
    "from sklearn.decomposition import PCA\n",
    "from sklearn.manifold import TSNE\n",
    "#%matplotlib inline\n",
    "import matplotlib.pyplot as plt\n",
    "from mpl_toolkits.mplot3d import Axes3D\n",
    "import seaborn as sns\n",
    "\n",
    "#perform tSNE\n",
    "tsne_model = TSNE(n_components=2, random_state=35)\n",
    "tsne_results = tsne_model.fit_transform(spec_dataset)"
   ]
  },
  {
   "cell_type": "markdown",
   "id": "59333f75",
   "metadata": {},
   "source": [
    "To plot t-SNE, I will use seaborn (sns):"
   ]
  },
  {
   "cell_type": "code",
   "execution_count": null,
   "id": "791df3c6",
   "metadata": {},
   "outputs": [],
   "source": [
    "#create array with colors\n",
    "tSNE_colors = ['#E6194B', '#3CB44B', '#FFE119', '#4363D8', '#F58231',\n",
    "                '#911EB4', '#46F0F0', '#F032E6', '#BCF60C', '#FABEBE',\n",
    "                '#008080', '#E6BEFF', '#9A6324', '#FFFAC8', '#800000',\n",
    "                '#AAFFC3', '#808000', '#FFD8B1', '#000075', '#808080',\n",
    "                '#FFFFFF', '#000000']\n",
    "\n",
    "#set custom color palette\n",
    "tSNE_palette = sns.set_palette(sns.color_palette(tSNE_colors))"
   ]
  },
  {
   "cell_type": "code",
   "execution_count": null,
   "id": "9d97289d",
   "metadata": {},
   "outputs": [],
   "source": [
    "print(len(tsne_results))"
   ]
  },
  {
   "cell_type": "code",
   "execution_count": null,
   "id": "86083756",
   "metadata": {
    "scrolled": false
   },
   "outputs": [],
   "source": [
    "#define the x and y axes\n",
    "spec_dataset['tsne-2d-one'] = tsne_results[:,0]\n",
    "spec_dataset['tsne-2d-two'] = tsne_results[:,1]\n",
    "\n",
    "#make the scatterplot using seaborn\n",
    "plt.figure(figsize=(15,9)) #adjust plot size for easier interpretation\n",
    "plot = sns.scatterplot(x=\"tsne-2d-one\", y=\"tsne-2d-two\",\n",
    "                hue=spec_dataset.index,\n",
    "                palette=sns.color_palette(\"hls\", 40),\n",
    "                #palette=tSNE_palette, #only use this palette if you have 20 or less categories!\n",
    "                data=spec_dataset, legend=\"full\", #disable legend if too many categories\n",
    "                alpha=0.3, s=20)\n",
    "\n",
    "plot.set(xlim=(-80, 80))\n",
    "plot.set(ylim=(-100, 100))\n",
    "\n",
    "#position the legend next to the graph; edit integers to change position\n",
    "#WARNING! If the legend causes the plot to be too large, it will not be plotted!\n",
    "box = plot.get_position()\n",
    "plot.set_position([box.x0, box.y0, box.width * 0.85, box.height]) # resize position\n",
    "\n",
    "# Put a legend to the right side\n",
    "plot.legend(loc='center right', bbox_to_anchor=(1.25, 0.5), ncol=1)"
   ]
  },
  {
   "cell_type": "code",
   "execution_count": null,
   "id": "99b4eedb",
   "metadata": {},
   "outputs": [],
   "source": [
    "#select a specific cluster on the graph based on the x and y coordinates and save the spectra in a list\n",
    "cluster_spec_list = [] #list for selected spectra\n",
    "\n",
    "for s, coordinate in zip(chosen_spectra, pca_seaborn_results):\n",
    "    if coordinate[0] > 1000 and coordinate[1] > 1000:\n",
    "        cluster_spec_list.append(s)\n",
    "print(len(cluster_spec_list))"
   ]
  },
  {
   "cell_type": "code",
   "execution_count": null,
   "id": "50c1a101",
   "metadata": {},
   "outputs": [],
   "source": [
    "for i in cluster_spec_list:\n",
    "    print(i.get(\"inchikey\"))"
   ]
  },
  {
   "cell_type": "code",
   "execution_count": null,
   "id": "89706afb",
   "metadata": {
    "scrolled": true
   },
   "outputs": [],
   "source": [
    "interested_cols = [\"compound_name\", \"adduct\", \"instrument\", \"parent_mass\", \"inchikey\", \"smiles\"]\n",
    "info = []\n",
    "for s in cluster_spec_list:\n",
    "    s_info = []\n",
    "    for col in interested_cols:\n",
    "        s_info.append(s.metadata.get(col, \"\"))\n",
    "        info.append(s_info)"
   ]
  },
  {
   "cell_type": "markdown",
   "id": "d2b72615",
   "metadata": {},
   "source": [
    "**UMAP VISUALIZATION**"
   ]
  },
  {
   "cell_type": "code",
   "execution_count": null,
   "id": "2180d6ae",
   "metadata": {},
   "outputs": [],
   "source": [
    "import umap\n",
    "\n",
    "umap_results = umap.UMAP(random_state=35).fit_transform(spec_dataset)"
   ]
  },
  {
   "cell_type": "code",
   "execution_count": null,
   "id": "73c62ce2",
   "metadata": {},
   "outputs": [],
   "source": [
    "import matplotlib.pyplot as plt\n",
    "from mpl_toolkits.mplot3d import Axes3D\n",
    "import seaborn as sns\n",
    "#define the x and y axes\n",
    "spec_dataset['UMAP-one'] = umap_results[:,0]\n",
    "spec_dataset['UMAP-two'] = umap_results[:,1]\n",
    "\n",
    "#make the scatterplot using seaborn\n",
    "plt.figure(figsize=(15,9)) #adjust plot size for easier interpretation\n",
    "plot = sns.scatterplot(x=\"UMAP-one\", y=\"UMAP-two\",\n",
    "                hue=spec_dataset.index,\n",
    "                palette=sns.color_palette(\"hls\", 40),\n",
    "                #palette=tSNE_palette, #only use this palette if you have 20 or less categories!\n",
    "                data=spec_dataset, legend=\"full\", alpha=0.3, s=20)\n",
    "\n",
    "\n",
    "plot.set(xlim=(-12, 25))\n",
    "plot.set(ylim=(-12, 25))\n",
    "#position the legend next to the graph; edit integers to change position\n",
    "#WARNING! If the legend causes the plot to be too large, it will not be plotted!\n",
    "\n",
    "box = plot.get_position()\n",
    "plot.set_position([box.x0, box.y0, box.width * 0.85, box.height]) # resize position\n",
    "\n",
    "# Put a legend to the right side\n",
    "plot.legend(loc='center right', bbox_to_anchor=(1.25, 0.5), ncol=1)\n"
   ]
  },
  {
   "cell_type": "markdown",
   "id": "927ee397",
   "metadata": {},
   "source": [
    "Plot ALLEEN de inchikeys van interresse om te zien hoe ze clusteren."
   ]
  },
  {
   "cell_type": "code",
   "execution_count": null,
   "id": "d0f906c9",
   "metadata": {},
   "outputs": [],
   "source": [
    "sel_inchikey = \"MFYSYFVPBJMHGN\"#MPWUZHVZZKSTPV #MFYSYFVPBJMHGN #URPXXNCTXCOATD\n",
    "vectors_to_plot = [] \n",
    "inchikeys_to_plot = []\n",
    "tsne_plot = [] \n",
    "umap_plot = []\n",
    "spectra_to_plot = []\n",
    "pca_plot = []\n",
    "\n",
    "for inchikey, vec, tsne, umap, s, pca in zip(spec_inchikeys, spec_vectors, tsne_results, umap_results, chosen_spectra, pca_seaborn_results):\n",
    "    if inchikey == sel_inchikey:\n",
    "        vectors_to_plot.append(vec)\n",
    "        inchikeys_to_plot.append(inchikey)\n",
    "        tsne_plot.append(tsne)\n",
    "        umap_plot.append(umap)\n",
    "        spectra_to_plot.append(s)\n",
    "        pca_plot.append(pca)\n",
    "        \n",
    "vecs_to_plot = np.stack(vectors_to_plot)\n",
    "inchis_to_plot = np.stack(inchikeys_to_plot)\n",
    "tsne_to_plot = np.stack(tsne_plot)\n",
    "umap_to_plot = np.stack(umap_plot)\n",
    "pca_to_plot = np.stack(pca_plot)"
   ]
  },
  {
   "cell_type": "code",
   "execution_count": null,
   "id": "3a290168",
   "metadata": {},
   "outputs": [],
   "source": [
    "print(len(vecs_to_plot))\n",
    "print(len(inchis_to_plot))\n",
    "print(len(tsne_to_plot))\n",
    "print(len(umap_to_plot))\n",
    "print(len(spectra_to_plot))\n",
    "print(len(pca_to_plot))"
   ]
  },
  {
   "cell_type": "code",
   "execution_count": null,
   "id": "7d8d18d0",
   "metadata": {},
   "outputs": [],
   "source": [
    "testplot_dataset = pd.DataFrame(vecs_to_plot, index=inchis_to_plot,\n",
    "                            columns = [str(i) for i in range(vecs_to_plot.shape[1])])"
   ]
  },
  {
   "cell_type": "code",
   "execution_count": null,
   "id": "5a3a199e",
   "metadata": {},
   "outputs": [],
   "source": [
    "#define X and Y axes\n",
    "testplot_dataset['PC1'] = pca_to_plot[:,0]\n",
    "testplot_dataset['PC2'] = pca_to_plot[:,1]\n",
    "\n",
    "#plot\n",
    "plt.figure(figsize=(15,9))\n",
    "plot = sns.scatterplot(x='PC1', y='PC2',\n",
    "           data=testplot_dataset, palette=sns.color_palette(\"hls\", 1),\n",
    "            hue=testplot_dataset.index, s=15,\n",
    "            legend=\"full\") #legend=False to disable, legend=\"full\" to enable\n",
    "\n",
    "\n",
    "plot.set(xlim=(-1000, 1700))\n",
    "plot.set(ylim=(-1200, 2000))\n",
    "\n",
    "#position the legend next to the graph; edit integers to change position\n",
    "#WARNING! If the legend causes the plot to be too large, it will not be plotted!\n",
    "\n",
    "box = plot.get_position()\n",
    "plot.set_position([box.x0, box.y0, box.width * 0.85, box.height]) # resize position\n",
    "# Put a legend to the right side and determine amount of columns\n",
    "nr_columns = int(len(selected_inchikeys)/40)\n",
    "if nr_columns == 0:\n",
    "    nr_columns += 1\n",
    "anchor_x = 1 + (nr_columns*0.25)\n",
    "plot.legend(loc='center right', bbox_to_anchor=(anchor_x, 0.5), ncol=nr_columns)"
   ]
  },
  {
   "cell_type": "code",
   "execution_count": null,
   "id": "8fbb8b43",
   "metadata": {},
   "outputs": [],
   "source": [
    "pcacluster_spec_list = [] #list for selected spectra\n",
    "\n",
    "for s, coordinate in zip(spectra_to_plot, pca_to_plot):\n",
    "    if coordinate[1] > 500:\n",
    "        pcacluster_spec_list.append(s)\n",
    "print(len(pcacluster_spec_list))"
   ]
  },
  {
   "cell_type": "code",
   "execution_count": null,
   "id": "25ff7ee3",
   "metadata": {},
   "outputs": [],
   "source": [
    "interested_cols = [\"compound_name\", \"adduct\", \"source_instrument\", \"parent_mass\", \"inchikey\", \"smiles\"]\n",
    "pca_info = []\n",
    "for s in pcacluster_spec_list:\n",
    "    s_info = []\n",
    "    for col in interested_cols:\n",
    "        s_info.append(s.metadata.get(col, \"\"))\n",
    "    pca_info.append(s_info)"
   ]
  },
  {
   "cell_type": "code",
   "execution_count": null,
   "id": "1acd132e",
   "metadata": {},
   "outputs": [],
   "source": [
    "pca_info_index = []\n",
    "for coordinates in pca_to_plot:\n",
    "    if coordinates[1] > 500:\n",
    "        pca_info_index.append(str(coordinates[0]) + \", \" + str(coordinates[1]))"
   ]
  },
  {
   "cell_type": "code",
   "execution_count": null,
   "id": "5ccb6e1d",
   "metadata": {},
   "outputs": [],
   "source": [
    "pca_info_df = pd.DataFrame(pca_info, index=pca_info_index,\n",
    "                       columns=[col for col in interested_cols])\n",
    "#pca_info_df.to_csv(\"PCAInfo_df_40x40_MFYSYFVPBJMHGN_2.csv\")"
   ]
  },
  {
   "cell_type": "code",
   "execution_count": null,
   "id": "84401919",
   "metadata": {},
   "outputs": [],
   "source": [
    "#define the x and y axes\n",
    "testplot_dataset['tsne-2d-one'] = tsne_to_plot[:,0]\n",
    "testplot_dataset['tsne-2d-two'] = tsne_to_plot[:,1]\n",
    "\n",
    "#make the scatterplot using seaborn\n",
    "plt.figure(figsize=(15,9)) #adjust plot size for easier interpretation\n",
    "plot = sns.scatterplot(x=\"tsne-2d-one\", y=\"tsne-2d-two\",\n",
    "                hue=testplot_dataset.index,\n",
    "                palette=sns.color_palette(\"hls\", 1),\n",
    "                #palette=tSNE_palette, #only use this palette if you have 20 or less categories!\n",
    "                data=testplot_dataset, legend=\"full\", #disable legend if too many categories\n",
    "                alpha=0.3, s=20)\n",
    "plot.set(xlim=(-80, 80))\n",
    "plot.set(ylim=(-100, 100))\n",
    "\n",
    "#position the legend next to the graph; edit integers to change position\n",
    "#WARNING! If the legend causes the plot to be too large, it will not be plotted!\n",
    "box = plot.get_position()\n",
    "plot.set_position([box.x0, box.y0, box.width * 0.85, box.height]) # resize position\n",
    "\n",
    "# Put a legend to the right side\n",
    "plot.legend(loc='center right', bbox_to_anchor=(1.25, 0.5), ncol=1)"
   ]
  },
  {
   "cell_type": "code",
   "execution_count": null,
   "id": "dffd9e01",
   "metadata": {},
   "outputs": [],
   "source": [
    "cluster_spec_list = [] #list for selected spectra\n",
    "\n",
    "for s, coordinates in zip(spectra_to_plot, tsne_to_plot):\n",
    "    if 61 < coordinates[0] < 80:\n",
    "        cluster_spec_list.append(s)\n",
    "print(len(cluster_spec_list))"
   ]
  },
  {
   "cell_type": "code",
   "execution_count": null,
   "id": "06b1d3bb",
   "metadata": {},
   "outputs": [],
   "source": [
    "interested_cols = [\"compound_name\", \"adduct\", \"source_instrument\", \"parent_mass\", \"inchikey\", \"smiles\"]\n",
    "info = []\n",
    "for s in cluster_spec_list:\n",
    "    s_info = []\n",
    "    for col in interested_cols:\n",
    "        s_info.append(s.metadata.get(col, \"\"))\n",
    "    info.append(s_info)"
   ]
  },
  {
   "cell_type": "code",
   "execution_count": null,
   "id": "8ae37d70",
   "metadata": {},
   "outputs": [],
   "source": [
    "info_index = []\n",
    "for coordinates in tsne_to_plot:\n",
    "    if 61 < coordinates[0] < 80:\n",
    "        info_index.append(str(coordinates[0]) + \", \" + str(coordinates[1]))"
   ]
  },
  {
   "cell_type": "code",
   "execution_count": null,
   "id": "6908b870",
   "metadata": {
    "scrolled": false
   },
   "outputs": [],
   "source": [
    "info_df = pd.DataFrame(info, index=info_index,\n",
    "                       columns=[col for col in interested_cols])\n",
    "info_df.to_csv(\"tSNEInfo_df_40x40_MFYSYFVPBJMHGN_4.csv\")"
   ]
  },
  {
   "cell_type": "code",
   "execution_count": null,
   "id": "29caad21",
   "metadata": {},
   "outputs": [],
   "source": [
    "import matplotlib.pyplot as plt\n",
    "from mpl_toolkits.mplot3d import Axes3D\n",
    "import seaborn as sns\n",
    "#define the x and y axes\n",
    "testplot_dataset['UMAP-one'] = umap_to_plot[:,0]\n",
    "testplot_dataset['UMAP-two'] = umap_to_plot[:,1]\n",
    "\n",
    "#make the scatterplot using seaborn\n",
    "plt.figure(figsize=(15,9)) #adjust plot size for easier interpretation\n",
    "plot = sns.scatterplot(x=\"UMAP-one\", y=\"UMAP-two\",\n",
    "                hue=testplot_dataset.index,\n",
    "                palette=sns.color_palette(\"hls\", 1),\n",
    "                #palette=tSNE_palette, #only use this palette if you have 20 or less categories!\n",
    "                data=testplot_dataset, legend=\"full\", alpha=0.3, s=20)\n",
    "\n",
    "\n",
    "plot.set(xlim=(-12, 25))\n",
    "plot.set(ylim=(-12, 25))\n",
    "#position the legend next to the graph; edit integers to change position\n",
    "#WARNING! If the legend causes the plot to be too large, it will not be plotted!\n",
    "\n",
    "box = plot.get_position()\n",
    "plot.set_position([box.x0, box.y0, box.width * 0.85, box.height]) # resize position\n",
    "\n",
    "# Put a legend to the right side\n",
    "plot.legend(loc='center right', bbox_to_anchor=(1.25, 0.5), ncol=1)\n"
   ]
  },
  {
   "cell_type": "code",
   "execution_count": null,
   "id": "71650e71",
   "metadata": {},
   "outputs": [],
   "source": [
    "umap_cluster_spec_list = [] #list for selected spectra\n",
    "\n",
    "for s, coordinate in zip(spectra_to_plot, umap_to_plot):\n",
    "    if 5 < coordinate[0] < 6.3:\n",
    "        umap_cluster_spec_list.append(s)\n",
    "print(len(umap_cluster_spec_list))"
   ]
  },
  {
   "cell_type": "code",
   "execution_count": null,
   "id": "f994a6c3",
   "metadata": {},
   "outputs": [],
   "source": [
    "print(umap_cluster_spec_list[0].metadata)"
   ]
  },
  {
   "cell_type": "code",
   "execution_count": null,
   "id": "23391cb9",
   "metadata": {},
   "outputs": [],
   "source": [
    "interested_cols = [\"compound_name\", \"adduct\", \"source_instrument\", \"parent_mass\", \"inchikey\", \"smiles\"]\n",
    "umap_info = []\n",
    "for s in umap_cluster_spec_list:\n",
    "    s_info = []\n",
    "    for col in interested_cols:\n",
    "        s_info.append(s.metadata.get(col, \"\"))\n",
    "    umap_info.append(s_info)"
   ]
  },
  {
   "cell_type": "code",
   "execution_count": null,
   "id": "0a3a0396",
   "metadata": {},
   "outputs": [],
   "source": [
    "umap_info_index = []\n",
    "for coordinates in umap_to_plot:\n",
    "    if 4 < coordinates[0] < 5:\n",
    "        umap_info_index.append(str(coordinates[0]) + \", \" + str(coordinates[1]))"
   ]
  },
  {
   "cell_type": "code",
   "execution_count": null,
   "id": "9113e76a",
   "metadata": {},
   "outputs": [],
   "source": [
    "info_df = pd.DataFrame(umap_info, index=umap_info_index,\n",
    "                       columns=[col for col in interested_cols])\n",
    "info_df.to_csv(\"UMAPInfo_df_40x40_MFYSYFVPBJMHGN_1.csv\")"
   ]
  },
  {
   "cell_type": "markdown",
   "id": "2e7b1d30",
   "metadata": {},
   "source": [
    "**=========PLOT USING COMPOUND NAMES AS LEGEND=========**"
   ]
  },
  {
   "cell_type": "code",
   "execution_count": null,
   "id": "4ec2c261",
   "metadata": {},
   "outputs": [],
   "source": [
    "#build new dataset\n",
    "names_dataset = pd.DataFrame(spec_vectors, index=spec_names,\n",
    "                            columns = [str(i) for i in range(spec_vectors.shape[1])])"
   ]
  },
  {
   "cell_type": "markdown",
   "id": "4775ceb0",
   "metadata": {},
   "source": [
    "**PCA**"
   ]
  },
  {
   "cell_type": "code",
   "execution_count": null,
   "id": "2e818e24",
   "metadata": {},
   "outputs": [],
   "source": [
    "pca_names = decomposition.PCA(n_components=3)\n",
    "pca_names_results = pca_names.fit_transform(names_dataset)"
   ]
  },
  {
   "cell_type": "code",
   "execution_count": null,
   "id": "97c50b2b",
   "metadata": {},
   "outputs": [],
   "source": [
    "#define X and Y axes\n",
    "names_dataset['PC1'] = pca_names_results[:,0]\n",
    "names_dataset['PC2'] = pca_names_results[:,1]"
   ]
  },
  {
   "cell_type": "code",
   "execution_count": null,
   "id": "50a5ac57",
   "metadata": {},
   "outputs": [],
   "source": [
    "#plot\n",
    "plt.figure(figsize=(13,7))\n",
    "plot = sns.scatterplot(x='PC1', y='PC2',\n",
    "           data=names_dataset, hue=names_dataset.index, legend=False)\n",
    "box = plot.get_position()\n",
    "plot.set_position([box.x0, box.y0, box.width * 0.85, box.height]) # resize position\n",
    "\n",
    "#position the legend next to the graph; edit integers to change position\n",
    "#WARNING! If the legend causes the plot to be too large, it will not be plotted!\n",
    "'''\n",
    "# Put a legend to the right side and determine amount of columns\n",
    "nr_columns = int(len(selected_inchikeys)/40)\n",
    "if nr_columns == 0:\n",
    "    nr_columns += 1\n",
    "anchor_x = 1 + (nr_columns*0.7)\n",
    "plot.legend(loc='center right', bbox_to_anchor=(anchor_x, 0.5), ncol=nr_columns)\n",
    "'''"
   ]
  },
  {
   "cell_type": "markdown",
   "id": "020316cf",
   "metadata": {},
   "source": [
    "**t-SNE**"
   ]
  },
  {
   "cell_type": "code",
   "execution_count": null,
   "id": "de802650",
   "metadata": {},
   "outputs": [],
   "source": [
    "tsne_names = TSNE(n_components=2)\n",
    "tsne_names_results = tsne_names.fit_transform(names_dataset)"
   ]
  },
  {
   "cell_type": "code",
   "execution_count": null,
   "id": "ba99a9da",
   "metadata": {},
   "outputs": [],
   "source": [
    "names_dataset['tsne-2d-one'] = tsne_names_results[:,0]\n",
    "names_dataset['tsne-2d-two'] = tsne_names_results[:,1]\n",
    "\n",
    "#make the scatterplot using seaborn\n",
    "plt.figure(figsize=(15,9)) #adjust plot size for easier interpretation\n",
    "plot = sns.scatterplot(x=\"tsne-2d-one\", y=\"tsne-2d-two\",\n",
    "                hue=names_dataset.index,\n",
    "                #palette=tSNE_palette,\n",
    "                data=names_dataset, legend=False, alpha=0.3)\n",
    "\n",
    "#position the legend next to the graph; edit integers to change position\n",
    "#WARNING! If the legend causes the plot to be too large, it will not be plotted!\n",
    "'''\n",
    "box = plot.get_position()\n",
    "plot.set_position([box.x0, box.y0, box.width * 0.85, box.height]) # resize position\n",
    "\n",
    "nr_columns = int(len(selected_inchikeys)/40)\n",
    "if nr_columns == 0:\n",
    "    nr_columns += 1\n",
    "anchor_x = 1 + (nr_columns*0.7)\n",
    "plot.legend(loc='center right', bbox_to_anchor=(anchor_x, 0.5), ncol=nr_columns)\n",
    "'''"
   ]
  },
  {
   "cell_type": "markdown",
   "id": "311fedef",
   "metadata": {},
   "source": [
    "**UMAP**"
   ]
  },
  {
   "cell_type": "code",
   "execution_count": null,
   "id": "958a9c51",
   "metadata": {
    "scrolled": true
   },
   "outputs": [],
   "source": [
    "import umap\n",
    "\n",
    "umap_names_results = umap.UMAP().fit_transform(names_dataset)"
   ]
  },
  {
   "cell_type": "code",
   "execution_count": null,
   "id": "051eda41",
   "metadata": {
    "scrolled": true
   },
   "outputs": [],
   "source": [
    "#define the x and y axes\n",
    "names_dataset['UMAP-one'] = umap_names_results[:,0]\n",
    "names_dataset['UMAP-two'] = umap_names_results[:,1]\n",
    "\n",
    "#make the scatterplot using seaborn\n",
    "plt.figure(figsize=(15,9)) #adjust plot size for easier interpretation\n",
    "plot = sns.scatterplot(x=\"UMAP-one\", y=\"UMAP-two\",\n",
    "                hue=names_dataset.index,\n",
    "                palette=tSNE_palette,\n",
    "                data=names_dataset, legend=False, alpha=0.3)\n",
    "\n",
    "#position the legend next to the graph; edit integers to change position\n",
    "#WARNING! If the legend causes the plot to be too large, it will not be plotted!\n",
    "'''\n",
    "box = plot.get_position()\n",
    "plot.set_position([box.x0, box.y0, box.width * 0.85, box.height]) # resize position\n",
    "nr_columns = int(len(selected_inchikeys)/40)\n",
    "if nr_columns == 0:\n",
    "    nr_columns += 1\n",
    "anchor_x = 1 + (nr_columns*0.7)\n",
    "plot.legend(loc='center right', bbox_to_anchor=(anchor_x, 0.5), ncol=nr_columns)\n",
    "'''"
   ]
  },
  {
   "cell_type": "markdown",
   "id": "2cd8c264",
   "metadata": {},
   "source": [
    "**=============================================CLASSIFICATION=============================================**\n",
    "\n",
    "This will require a tab-delimited text file containing inchikeys(full, not inchikey14), smiles, and various phylogenic information (superclass, class, subclass etc.) generated by the get_classes_for_spectra.py.\n",
    "\n",
    "That file first needs to be parsed to extract only the wanted info, which in this case is superclass, class and subclass. Then, we can use that information to plot it again."
   ]
  },
  {
   "cell_type": "code",
   "execution_count": null,
   "id": "0bfc8d74",
   "metadata": {},
   "outputs": [],
   "source": [
    "#make list of sorted inchikeys for our subset\n",
    "sorted_inchikeys = []\n",
    "for s in chosen_spectra:\n",
    "    if len(s.get(\"inchikey\")) >= 14:\n",
    "        sorted_inchikeys.append(s.get(\"inchikey\")[:14])"
   ]
  },
  {
   "cell_type": "code",
   "execution_count": null,
   "id": "012d821b",
   "metadata": {},
   "outputs": [],
   "source": [
    "print(len(sorted_inchikeys))"
   ]
  },
  {
   "cell_type": "code",
   "execution_count": null,
   "id": "84b25ebc",
   "metadata": {},
   "outputs": [],
   "source": [
    "print(sorted_inchikeys[0:10])"
   ]
  },
  {
   "cell_type": "markdown",
   "id": "1a695e74",
   "metadata": {},
   "source": [
    "Make a dictionary with inchikeys as keys, and classification information stored as elements of a list for each key. This will be used to easily connect inchikey to superclass/class/subclass for later analysis."
   ]
  },
  {
   "cell_type": "code",
   "execution_count": null,
   "id": "05de464c",
   "metadata": {
    "scrolled": false
   },
   "outputs": [],
   "source": [
    "#open and parse the tab-delimited classification file\n",
    "import re\n",
    "class_infile = os.path.join(path_data,'ALL_GNPS_210409_positive_processed_annotated_CF_NPC_classes.txt')\n",
    "inchi_classes_dict = {} #make dict to store values of interest\n",
    "with open(class_infile, 'r') as infile:\n",
    "    for line in infile:\n",
    "        line = line.strip()\n",
    "        line = line.split(\"\\t\")\n",
    "        for inchikey in sorted_inchikeys:\n",
    "            if line[0][:14] == inchikey:\n",
    "                inchi_classes_dict[inchikey] = []\n",
    "                if re.match('^\\w', line[3]):\n",
    "                    inchi_classes_dict[inchikey].append(line[3]) #CF_superclass\n",
    "                else:\n",
    "                    inchi_classes_dict[inchikey].append(\"Unclassified\") \n",
    "                if re.match('^\\w', line[4]):\n",
    "                    inchi_classes_dict[inchikey].append(line[4]) #CF_class\n",
    "                else:\n",
    "                    inchi_classes_dict[inchikey].append(\"Unclassified\") \n",
    "                if re.match('^\\w', line[5]):\n",
    "                    inchi_classes_dict[inchikey].append(line[5]) #CF_subclass\n",
    "                else:\n",
    "                    inchi_classes_dict[inchikey].append(\"Unclassified\")\n",
    "                if re.match('^\\w', line[9]):\n",
    "                    inchi_classes_dict[inchikey].append(line[9]) #NPC_pathway_results\n",
    "                else:\n",
    "                    inchi_classes_dict[inchikey].append(\"Unclassified\")\n",
    "                if re.match('^\\w', line[8]):\n",
    "                    inchi_classes_dict[inchikey].append(line[8]) #NPC_superclass\n",
    "                else:\n",
    "                    inchi_classes_dict[inchikey].append(\"Unclassified\") \n",
    "                if re.match('^\\w', line[7]):\n",
    "                    inchi_classes_dict[inchikey].append(line[7]) #NPC_class\n",
    "                else:\n",
    "                    inchi_classes_dict[inchikey].append(\"Unclassified\") \n",
    "                "
   ]
  },
  {
   "cell_type": "markdown",
   "id": "36826d3b",
   "metadata": {},
   "source": [
    "Now, to make a sorted list of superclass/class/subclass (depending on user choice) to use as index in the database.\n",
    "The choices are:\n",
    "\n",
    "**superclass** -> classyfire superclasses\n",
    "\n",
    "**class** -> classyfire classes\n",
    "\n",
    "**subclass** -> classyfire subclasses\n",
    "\n",
    "**np_pathway** -> npclassifier pathway_results\n",
    "\n",
    "**np_superclass** -> npclassifier superclass\n",
    "\n",
    "**np_class** -> npclassifier class"
   ]
  },
  {
   "cell_type": "code",
   "execution_count": null,
   "id": "3b2714d8",
   "metadata": {},
   "outputs": [],
   "source": [
    "user_choice = \"np_pathway\" #edit choice to pick which function to use\n",
    "if user_choice == \"superclass\":\n",
    "    selecter = 0\n",
    "if user_choice == \"class\":\n",
    "    selecter = 1\n",
    "if user_choice == \"subclass\":\n",
    "    selecter = 2\n",
    "if user_choice == \"np_pathway\":\n",
    "    selecter = 3\n",
    "if user_choice == \"np_superclass\":\n",
    "    selecter = 4\n",
    "if user_choice == \"np_class\":\n",
    "    selecter = 5\n",
    "index_list = [] #new list that will store values to use as index for plotting\n",
    "for inchikey in sorted_inchikeys:\n",
    "    #if inchikey in inchi_classes_dict:\n",
    "        #index_list.append(inchi_classes_dict[inchikey][selecter])\n",
    "    unclassified_classes = [\"Unclassified\", \"Unclassified\", \"Unclassified\", \"Unclassified\", \"Unclassified\", \"Unclassified\"]\n",
    "    class_list = inchi_classes_dict.get(inchikey, unclassified_classes)\n",
    "    class_ = class_list[selecter]\n",
    "    index_list.append(class_)\n",
    "\n",
    "    #for key, value in inchi_classes_dict.items():\n",
    "        #if key == inchikey:\n",
    "            #index_list.append(value[selecter])"
   ]
  },
  {
   "cell_type": "code",
   "execution_count": null,
   "id": "c7df613a",
   "metadata": {},
   "outputs": [],
   "source": [
    "print(len(index_list))"
   ]
  },
  {
   "cell_type": "code",
   "execution_count": null,
   "id": "47d6186d",
   "metadata": {},
   "outputs": [],
   "source": [
    "print(index_list[0:10])"
   ]
  },
  {
   "cell_type": "markdown",
   "id": "e7fab576",
   "metadata": {},
   "source": [
    "**Plot the superclasses**"
   ]
  },
  {
   "cell_type": "code",
   "execution_count": null,
   "id": "e567b4c0",
   "metadata": {},
   "outputs": [],
   "source": [
    "import matplotlib.pyplot as plt\n",
    "import seaborn as sns\n",
    "import pandas as pd\n",
    "import numpy as np\n",
    "%matplotlib inline\n",
    "from sklearn import decomposition\n",
    "\n",
    "plot_dataset = pd.DataFrame(spec_vectors, index=index_list,\n",
    "                            columns = [str(i) for i in range(spec_vectors.shape[1])])"
   ]
  },
  {
   "cell_type": "code",
   "execution_count": null,
   "id": "efc16bb4",
   "metadata": {},
   "outputs": [],
   "source": [
    "pca_classes = decomposition.PCA(n_components=3)\n",
    "pca_classes_results = pca_classes.fit_transform(plot_dataset)"
   ]
  },
  {
   "cell_type": "code",
   "execution_count": null,
   "id": "22068417",
   "metadata": {},
   "outputs": [],
   "source": [
    "#define X and Y axes\n",
    "plot_dataset['PC1'] = pca_classes_results[:,0]\n",
    "plot_dataset['PC2'] = pca_classes_results[:,1]\n",
    "\n",
    "#plot\n",
    "plt.figure(figsize=(13,7))\n",
    "plot = sns.scatterplot(x='PC1', y='PC2',\n",
    "           data=plot_dataset, hue=plot_dataset.index, legend=\"full\")\n",
    "\n",
    "#position the legend next to the graph; edit integers to change position\n",
    "#WARNING! If the legend causes the plot to be too large, it will not be plotted!\n",
    "box = plot.get_position()\n",
    "plot.set_position([box.x0, box.y0, box.width * 0.85, box.height]) # resize position\n",
    "\n",
    "# Put a legend to the right side\n",
    "plot.legend(loc='center right', bbox_to_anchor=(1.50, 0.5), ncol=1)"
   ]
  },
  {
   "cell_type": "code",
   "execution_count": null,
   "id": "6306599e",
   "metadata": {},
   "outputs": [],
   "source": [
    "from __future__ import print_function\n",
    "from sklearn.decomposition import PCA\n",
    "from sklearn.manifold import TSNE\n",
    "#%matplotlib inline\n",
    "import matplotlib.pyplot as plt\n",
    "from mpl_toolkits.mplot3d import Axes3D\n",
    "import seaborn as sns\n",
    "\n",
    "tsne_classes = TSNE(n_components=2, random_state = 35)\n",
    "tsne_classes_results = tsne_classes.fit_transform(plot_dataset)"
   ]
  },
  {
   "cell_type": "code",
   "execution_count": null,
   "id": "7e14ef14",
   "metadata": {},
   "outputs": [],
   "source": [
    "tSNE_colors = ['#E6194B', '#3CB44B', '#FFE119', '#4363D8', '#F58231',\n",
    "                '#911EB4', '#46F0F0', '#F032E6', '#BCF60C', '#FABEBE',\n",
    "                '#008080', '#E6BEFF', '#9A6324', '#FFFAC8', '#800000',\n",
    "                '#AAFFC3', '#808000', '#FFD8B1', '#000075', '#808080',\n",
    "                '#FFFFFF', '#000000']\n",
    "\n",
    "#set custom color palette\n",
    "tSNE_palette = sns.set_palette(sns.color_palette(tSNE_colors))"
   ]
  },
  {
   "cell_type": "code",
   "execution_count": null,
   "id": "4801a27c",
   "metadata": {},
   "outputs": [],
   "source": [
    "plot_dataset['tsne-2d-one'] = tsne_classes_results[:,0]\n",
    "plot_dataset['tsne-2d-two'] = tsne_classes_results[:,1]\n",
    "\n",
    "#make the scatterplot using seaborn\n",
    "plt.figure(figsize=(15,9)) #adjust plot size for easier interpretation\n",
    "plot = sns.scatterplot(x=\"tsne-2d-one\", y=\"tsne-2d-two\",\n",
    "                hue=plot_dataset.index,\n",
    "                palette=sns.color_palette(\"hls\", 26),\n",
    "                data=plot_dataset, legend=\"full\", alpha=0.3, \n",
    "                       s=10) #adjust dot size\n",
    "\n",
    "#position the legend next to the graph; edit integers to change position\n",
    "#WARNING! If the legend causes the plot to be too large, it will not be plotted!\n",
    "box = plot.get_position()\n",
    "plot.set_position([box.x0, box.y0, box.width * 0.85, box.height]) # resize position\n",
    "\n",
    "# Put a legend to the right side\n",
    "plot.legend(loc='center right', bbox_to_anchor=(1.50, 0.5), ncol=1)"
   ]
  },
  {
   "cell_type": "code",
   "execution_count": null,
   "id": "691e797f",
   "metadata": {
    "scrolled": true
   },
   "outputs": [],
   "source": [
    "import umap\n",
    "\n",
    "umap_classes_results = umap.UMAP(random_state = 35).fit_transform(plot_dataset)"
   ]
  },
  {
   "cell_type": "code",
   "execution_count": null,
   "id": "80f3a0a3",
   "metadata": {},
   "outputs": [],
   "source": [
    "#define the x and y axes\n",
    "plot_dataset['UMAP-one'] = umap_classes_results[:,0]\n",
    "plot_dataset['UMAP-two'] = umap_classes_results[:,1]\n",
    "\n",
    "#make the scatterplot using seaborn\n",
    "plt.figure(figsize=(13,7)) #adjust plot size for easier interpretation\n",
    "plot = sns.scatterplot(x=\"UMAP-one\", y=\"UMAP-two\",\n",
    "                hue=plot_dataset.index,\n",
    "                #palette=sns.color_palette(\"hls\", 20),\n",
    "                data=plot_dataset, legend=\"full\", alpha=0.3, s=10)\n",
    "\n",
    "#position the legend next to the graph; edit integers to change position\n",
    "#WARNING! If the legend causes the plot to be too large, it will not be plotted!\n",
    "box = plot.get_position()\n",
    "plot.set_position([box.x0, box.y0, box.width * 0.85, box.height]) # resize position\n",
    "\n",
    "# Put a legend to the right side\n",
    "plot.legend(loc='center right', bbox_to_anchor=(1.50, 0.5), ncol=1)"
   ]
  },
  {
   "cell_type": "markdown",
   "id": "c0b831e0",
   "metadata": {},
   "source": [
    "Now, we want to plot all the classes for a specific superclass, or all the subclasses for a specific class."
   ]
  },
  {
   "cell_type": "markdown",
   "id": "e072b2f5",
   "metadata": {},
   "source": [
    "**PLOT ALL CLASSES FOR A SPECIFIC SUPERCLASS**\n",
    "\n",
    "There are two ways to go about this. Either use the same t-SNE/UMAP results from before but plot only a specific class (has the advantage of preserving the same plot but only showing a certain class), or selecting a specific class and performing a completely new t-SNE/UMAP on that smaller dataset.\n",
    "\n",
    "In this case, both methods will be used, one after another."
   ]
  },
  {
   "cell_type": "code",
   "execution_count": null,
   "id": "e5c8f26b",
   "metadata": {},
   "outputs": [],
   "source": [
    "#make a list of classes for a specific superclass\n",
    "user_supercl = \"Alkaloids\"\n",
    "classes_for_supercl = [] #list to store classes as index\n",
    "cl_vectors = [] #new vector list\n",
    "class_tsne = [] #new tsne results list\n",
    "class_umap = [] #new umap results list\n",
    "\n",
    "for inchikey, vec, tsne, umap in zip(sorted_inchikeys, spec_vectors, tsne_classes_results, umap_classes_results):\n",
    "    if inchikey in inchi_classes_dict:\n",
    "        if inchi_classes_dict[inchikey][0] == user_supercl:\n",
    "            classes_for_supercl.append(inchi_classes_dict[inchikey][1])\n",
    "            cl_vectors.append(vec)\n",
    "            class_tsne.append(tsne)\n",
    "            class_umap.append(umap)\n",
    "\n",
    "cl_tsne = np.stack(class_tsne)\n",
    "cl_vecs = np.stack(cl_vectors)\n",
    "cl_umap = np.stack(class_umap)"
   ]
  },
  {
   "cell_type": "code",
   "execution_count": null,
   "id": "dda7ce59",
   "metadata": {},
   "outputs": [],
   "source": [
    "print(len(classes_for_supercl))\n",
    "print(len(cl_vecs))\n",
    "print(len(cl_tsne))"
   ]
  },
  {
   "cell_type": "markdown",
   "id": "430be3ec",
   "metadata": {},
   "source": [
    "Plot the selected group on **old** t-SNE and UMAP results:"
   ]
  },
  {
   "cell_type": "code",
   "execution_count": null,
   "id": "31598390",
   "metadata": {},
   "outputs": [],
   "source": [
    "subplot_dataset = pd.DataFrame(cl_vecs, index=classes_for_supercl,\n",
    "                            columns = [str(i) for i in range(cl_vecs.shape[1])])"
   ]
  },
  {
   "cell_type": "code",
   "execution_count": null,
   "id": "330602ee",
   "metadata": {},
   "outputs": [],
   "source": [
    "subplot_dataset['tsne-2d-one'] = cl_tsne[:,0]\n",
    "subplot_dataset['tsne-2d-two'] = cl_tsne[:,1]\n",
    "\n",
    "#make the scatterplot using seaborn\n",
    "plt.figure(figsize=(15,9)) #adjust plot size for easier interpretation\n",
    "plot = sns.scatterplot(x=\"tsne-2d-one\", y=\"tsne-2d-two\",\n",
    "                hue=subplot_dataset.index,\n",
    "                palette=sns.color_palette(\"hls\", 30),\n",
    "                data=subplot_dataset, legend=\"full\", alpha=0.3, s=15)\n",
    "\n",
    "#position the legend next to the graph; edit integers to change position\n",
    "#WARNING! If the legend causes the plot to be too large, it will not be plotted!\n",
    "box = plot.get_position()\n",
    "plot.set_position([box.x0, box.y0, box.width * 0.85, box.height]) # resize position\n",
    "\n",
    "# Put a legend to the right side\n",
    "plot.legend(loc='center right', bbox_to_anchor=(1.65, 0.5), ncol=1)"
   ]
  },
  {
   "cell_type": "code",
   "execution_count": null,
   "id": "dc0d9cf0",
   "metadata": {},
   "outputs": [],
   "source": [
    "subplot_dataset['UMAP-one'] = cl_umap[:,0]\n",
    "subplot_dataset['UMAP-two'] = cl_umap[:,1]\n",
    "\n",
    "#make the scatterplot using seaborn\n",
    "plt.figure(figsize=(13,7)) #adjust plot size for easier interpretation\n",
    "plot = sns.scatterplot(x=\"UMAP-one\", y=\"UMAP-two\",\n",
    "                hue=subplot_dataset.index,\n",
    "                palette=tSNE_palette,\n",
    "                data=subplot_dataset, legend=\"full\", alpha=0.3, s=10)\n",
    "\n",
    "#position the legend next to the graph; edit integers to change position\n",
    "#WARNING! If the legend causes the plot to be too large, it will not be plotted!\n",
    "box = plot.get_position()\n",
    "plot.set_position([box.x0, box.y0, box.width * 0.85, box.height]) # resize position\n",
    "\n",
    "# Put a legend to the right side\n",
    "plot.legend(loc='center right', bbox_to_anchor=(1.50, 0.5), ncol=1)"
   ]
  },
  {
   "cell_type": "markdown",
   "id": "3366d489",
   "metadata": {},
   "source": [
    "Perform and plot **new** t-SNE and UMAP:"
   ]
  },
  {
   "cell_type": "code",
   "execution_count": null,
   "id": "81d1c7a7",
   "metadata": {},
   "outputs": [],
   "source": [
    "#make new dataset\n",
    "subplot_dataset = pd.DataFrame(cl_vecs, index=classes_for_supercl,\n",
    "                            columns = [str(i) for i in range(cl_vecs.shape[1])])"
   ]
  },
  {
   "cell_type": "code",
   "execution_count": null,
   "id": "47f047ab",
   "metadata": {},
   "outputs": [],
   "source": [
    "tsne_cl = TSNE(n_components=2, random_state = 35)\n",
    "tsne_cl_results = tsne_classes.fit_transform(subplot_dataset)"
   ]
  },
  {
   "cell_type": "code",
   "execution_count": null,
   "id": "1de5b011",
   "metadata": {},
   "outputs": [],
   "source": [
    "tSNE_colors = ['#E6194B', '#3CB44B', '#FFE119', '#4363D8', '#F58231',\n",
    "                '#911EB4', '#46F0F0', '#F032E6', '#BCF60C', '#FABEBE',\n",
    "                '#008080', '#E6BEFF', '#9A6324', '#FFFAC8', '#800000',\n",
    "                '#AAFFC3', '#808000', '#FFD8B1', '#000075', '#808080',\n",
    "                '#FFFFFF', '#000000']\n",
    "\n",
    "#set custom color palette\n",
    "tSNE_palette = sns.set_palette(sns.color_palette(tSNE_colors))"
   ]
  },
  {
   "cell_type": "code",
   "execution_count": null,
   "id": "bbfb4228",
   "metadata": {
    "scrolled": false
   },
   "outputs": [],
   "source": [
    "subplot_dataset['tsne-2d-one-rerun'] = tsne_cl_results[:,0]\n",
    "subplot_dataset['tsne-2d-two-rerun'] = tsne_cl_results[:,1]\n",
    "\n",
    "#make the scatterplot using seaborn\n",
    "plt.figure(figsize=(15,9)) #adjust plot size for easier interpretation\n",
    "plot = sns.scatterplot(x=\"tsne-2d-one-rerun\", y=\"tsne-2d-two-rerun\",\n",
    "                hue=subplot_dataset.index,\n",
    "                palette=sns.color_palette(\"hls\", 30),\n",
    "                data=subplot_dataset, legend=\"full\", alpha=0.3, s=15)\n",
    "\n",
    "#position the legend next to the graph; edit integers to change position\n",
    "#WARNING! If the legend causes the plot to be too large, it will not be plotted!\n",
    "box = plot.get_position()\n",
    "plot.set_position([box.x0, box.y0, box.width * 0.85, box.height]) # resize position\n",
    "\n",
    "# Put a legend to the right side\n",
    "plot.legend(loc='center right', bbox_to_anchor=(1.65, 0.5), ncol=1)"
   ]
  },
  {
   "cell_type": "code",
   "execution_count": null,
   "id": "b3d09b68",
   "metadata": {},
   "outputs": [],
   "source": [
    "import umap\n",
    "\n",
    "umap_cl_results = umap.UMAP(random_state=np.random.RandomState(35)).fit_transform(subplot_dataset)"
   ]
  },
  {
   "cell_type": "code",
   "execution_count": null,
   "id": "98a3558c",
   "metadata": {},
   "outputs": [],
   "source": [
    "#define the x and y axes\n",
    "subplot_dataset['UMAP-one-rerun'] = umap_cl_results[:,0]\n",
    "subplot_dataset['UMAP-two-rerun'] = umap_cl_results[:,1]\n",
    "\n",
    "#make the scatterplot using seaborn\n",
    "plt.figure(figsize=(13,7)) #adjust plot size for easier interpretation\n",
    "plot = sns.scatterplot(x=\"UMAP-one-rerun\", y=\"UMAP-two-rerun\",\n",
    "                hue=subplot_dataset.index,\n",
    "                palette=tSNE_palette,\n",
    "                data=subplot_dataset, legend=\"full\", alpha=0.3, s=10)\n",
    "\n",
    "#position the legend next to the graph; edit integers to change position\n",
    "#WARNING! If the legend causes the plot to be too large, it will not be plotted!\n",
    "box = plot.get_position()\n",
    "plot.set_position([box.x0, box.y0, box.width * 0.85, box.height]) # resize position\n",
    "\n",
    "# Put a legend to the right side\n",
    "plot.legend(loc='center right', bbox_to_anchor=(1.50, 0.5), ncol=1)"
   ]
  },
  {
   "cell_type": "markdown",
   "id": "0e583387",
   "metadata": {},
   "source": [
    "**PLOT ALL SUBCLASSES FOR A SPECIFIC CLASS**\n",
    "\n",
    "The same principle applies here; there are two ways to plot these."
   ]
  },
  {
   "cell_type": "code",
   "execution_count": null,
   "id": "08fef2c3",
   "metadata": {},
   "outputs": [],
   "source": [
    "#make a list of subclasses for a specific class\n",
    "user_cl = \"Flavonoids\"\n",
    "subclasses_for_cl = [] #list to store subclasses as index\n",
    "scl_vectors = [] #new vector list\n",
    "subclass_tsne = [] #new tsne results list\n",
    "subclass_umap = [] #new umap results list\n",
    "\n",
    "for inchikey, vec, tsne, umap in zip(sorted_inchikeys, spec_vectors, tsne_classes_results, umap_classes_results):\n",
    "    if inchikey in inchi_classes_dict:\n",
    "        if inchi_classes_dict[inchikey][1] == user_cl:\n",
    "            subclasses_for_cl.append(inchi_classes_dict[inchikey][2])\n",
    "            scl_vectors.append(vec)\n",
    "            subclass_tsne.append(tsne)\n",
    "            subclass_umap.append(umap)\n",
    "\n",
    "scl_tsne = np.stack(subclass_tsne) #use this to plot without rerunning tSNE\n",
    "scl_vecs = np.stack(scl_vectors)\n",
    "scl_umap = np.stack(subclass_umap)"
   ]
  },
  {
   "cell_type": "code",
   "execution_count": null,
   "id": "a81a45c0",
   "metadata": {},
   "outputs": [],
   "source": [
    "print(len(subclasses_for_cl))\n",
    "print(len(scl_tsne))\n",
    "print(len(scl_vecs))\n",
    "print(len(scl_umap))"
   ]
  },
  {
   "cell_type": "markdown",
   "id": "da7b4d91",
   "metadata": {},
   "source": [
    "Plot the selected group on **old** t-SNE and UMAP results"
   ]
  },
  {
   "cell_type": "code",
   "execution_count": null,
   "id": "f10c21ea",
   "metadata": {},
   "outputs": [],
   "source": [
    "sclplot_dataset = pd.DataFrame(scl_vecs, index=subclasses_for_cl,\n",
    "                            columns = [str(i) for i in range(scl_vecs.shape[1])])"
   ]
  },
  {
   "cell_type": "code",
   "execution_count": null,
   "id": "01a3b144",
   "metadata": {},
   "outputs": [],
   "source": [
    "sclplot_dataset['tsne-2d-one'] = scl_tsne[:,0]\n",
    "sclplot_dataset['tsne-2d-two'] = scl_tsne[:,1]\n",
    "\n",
    "#make the scatterplot using seaborn\n",
    "plt.figure(figsize=(15,9)) #adjust plot size for easier interpretation\n",
    "plot = sns.scatterplot(x=\"tsne-2d-one\", y=\"tsne-2d-two\",\n",
    "                hue=sclplot_dataset.index,\n",
    "                palette=tSNE_palette,\n",
    "                data=sclplot_dataset, legend=\"full\", alpha=0.3, s=15)\n",
    "\n",
    "#position the legend next to the graph; edit integers to change position\n",
    "#WARNING! If the legend causes the plot to be too large, it will not be plotted!\n",
    "box = plot.get_position()\n",
    "plot.set_position([box.x0, box.y0, box.width * 0.85, box.height]) # resize position\n",
    "\n",
    "# Put a legend to the right side\n",
    "plot.legend(loc='center right', bbox_to_anchor=(1.50, 0.5), ncol=1)"
   ]
  },
  {
   "cell_type": "code",
   "execution_count": null,
   "id": "1e457265",
   "metadata": {},
   "outputs": [],
   "source": [
    "sclplot_dataset['UMAP-one'] = scl_umap[:,0]\n",
    "sclplot_dataset['UMAP-two'] = scl_umap[:,1]\n",
    "\n",
    "#make the scatterplot using seaborn\n",
    "plt.figure(figsize=(15,9)) #adjust plot size for easier interpretation\n",
    "plot = sns.scatterplot(x=\"UMAP-one\", y=\"UMAP-two\",\n",
    "                hue=sclplot_dataset.index,\n",
    "                palette=tSNE_palette,\n",
    "                data=sclplot_dataset, legend=\"full\", alpha=0.3, s=15)\n",
    "\n",
    "box = plot.get_position()\n",
    "plot.set_position([box.x0, box.y0, box.width * 0.85, box.height]) # resize position\n",
    "\n",
    "# Put a legend to the right side\n",
    "plot.legend(loc='center right', bbox_to_anchor=(1.50, 0.5), ncol=1)"
   ]
  },
  {
   "cell_type": "markdown",
   "id": "80180048",
   "metadata": {},
   "source": [
    "Perform and plot **new** t-SNE and UMAP"
   ]
  },
  {
   "cell_type": "code",
   "execution_count": null,
   "id": "dff38f59",
   "metadata": {},
   "outputs": [],
   "source": [
    "sclplot_dataset = pd.DataFrame(scl_vecs, index=subclasses_for_cl,\n",
    "                            columns = [str(i) for i in range(scl_vecs.shape[1])])"
   ]
  },
  {
   "cell_type": "code",
   "execution_count": null,
   "id": "5a4c9163",
   "metadata": {},
   "outputs": [],
   "source": [
    "tsne_scl = TSNE(n_components=2, random_state = 35)\n",
    "tsne_scl_results = tsne_scl.fit_transform(sclplot_dataset)"
   ]
  },
  {
   "cell_type": "code",
   "execution_count": null,
   "id": "60e1857e",
   "metadata": {},
   "outputs": [],
   "source": [
    "tSNE_colors = ['#E6194B', '#3CB44B', '#FFE119', '#4363D8', '#F58231',\n",
    "                '#911EB4', '#46F0F0', '#F032E6', '#BCF60C', '#FABEBE',\n",
    "                '#008080', '#E6BEFF', '#9A6324', '#FFFAC8', '#800000',\n",
    "                '#AAFFC3', '#808000', '#FFD8B1', '#000075', '#808080',\n",
    "                '#FFFFFF', '#000000']\n",
    "\n",
    "#set custom color palette\n",
    "tSNE_palette = sns.set_palette(sns.color_palette(tSNE_colors))"
   ]
  },
  {
   "cell_type": "code",
   "execution_count": null,
   "id": "4229abb5",
   "metadata": {},
   "outputs": [],
   "source": [
    "sclplot_dataset['tsne-2d-one-rerun'] = tsne_scl_results[:,0]\n",
    "sclplot_dataset['tsne-2d-two-rerun'] = tsne_scl_results[:,1]\n",
    "\n",
    "#make the scatterplot using seaborn\n",
    "plt.figure(figsize=(15,9)) #adjust plot size for easier interpretation\n",
    "plot = sns.scatterplot(x=\"tsne-2d-one-rerun\", y=\"tsne-2d-two-rerun\",\n",
    "                hue=sclplot_dataset.index,\n",
    "                palette=tSNE_palette,\n",
    "                data=sclplot_dataset, legend=\"full\", alpha=0.3, s=15)\n",
    "\n",
    "#position the legend next to the graph; edit integers to change position\n",
    "#WARNING! If the legend causes the plot to be too large, it will not be plotted!\n",
    "box = plot.get_position()\n",
    "plot.set_position([box.x0, box.y0, box.width * 0.85, box.height]) # resize position\n",
    "\n",
    "# Put a legend to the right side\n",
    "plot.legend(loc='center right', bbox_to_anchor=(1.50, 0.5), ncol=1)"
   ]
  },
  {
   "cell_type": "code",
   "execution_count": null,
   "id": "7b407b9b",
   "metadata": {},
   "outputs": [],
   "source": [
    "import umap\n",
    "\n",
    "umap_scl_results = umap.UMAP(random_state=np.random.RandomState(35)).fit_transform(sclplot_dataset)"
   ]
  },
  {
   "cell_type": "code",
   "execution_count": null,
   "id": "88cdb5c3",
   "metadata": {},
   "outputs": [],
   "source": [
    "sclplot_dataset['UMAP-one-rerun'] = umap_scl_results[:,0]\n",
    "sclplot_dataset['UMAP-two-rerun'] = umap_scl_results[:,1]\n",
    "\n",
    "#make the scatterplot using seaborn\n",
    "plt.figure(figsize=(13,7)) #adjust plot size for easier interpretation\n",
    "plot = sns.scatterplot(x=\"UMAP-one-rerun\", y=\"UMAP-two-rerun\",\n",
    "                hue=sclplot_dataset.index,\n",
    "                palette=tSNE_palette,\n",
    "                data=sclplot_dataset, legend=\"full\", alpha=0.3, s=10)\n",
    "\n",
    "#position the legend next to the graph; edit integers to change position\n",
    "#WARNING! If the legend causes the plot to be too large, it will not be plotted!\n",
    "box = plot.get_position()\n",
    "plot.set_position([box.x0, box.y0, box.width * 0.85, box.height]) # resize position\n",
    "\n",
    "# Put a legend to the right side\n",
    "plot.legend(loc='center right', bbox_to_anchor=(1.50, 0.5), ncol=1)"
   ]
  },
  {
   "cell_type": "markdown",
   "id": "5d3b889d",
   "metadata": {},
   "source": [
    "**PLOT COMPOUND NAMES FOR SPECIFIC SUBCLASS**\n",
    "\n",
    "Finally, to get a better idea of what those subclasses actually represent, select one and plot it, categorizing by compound name.\n",
    "\n",
    "An issue with doing this is a potentially enormous legend, since there can be hundreds, if not thousands of compound names present in a selected group. For this reason, it is advised to set **legend=False** when plotting, and setting the box part (the part of the code that determines legend position) inside triple quotes.\n",
    "\n",
    "However, even with the legend absent, the colors will still resemble compound names so it will perhaps yield some insight into whether the spectra of the same compound cluster together."
   ]
  },
  {
   "cell_type": "code",
   "execution_count": null,
   "id": "0063c3fa",
   "metadata": {},
   "outputs": [],
   "source": [
    "#make a list of compound names for a specific subclass\n",
    "user_scl = \"Flavonoid glycosides\"\n",
    "cnames_for_scl = [] #list to store compound names as index\n",
    "cpdnames_vectors = [] #new vector list\n",
    "cpdnames_tsne = [] #new tsne results list\n",
    "cpdnames_umap = [] #new umap results list\n",
    "source_instruments = []\n",
    "spec_to_plot = []\n",
    "inchikey_to_plot = []\n",
    "\n",
    "for inchikey, vec, tsne, umap, name, s in zip(sorted_inchikeys, spec_vectors, tsne_classes_results, umap_classes_results, spec_names, chosen_spectra):\n",
    "    if inchikey in inchi_classes_dict:\n",
    "        if inchi_classes_dict[inchikey][2] == user_scl:\n",
    "            cpdnames_vectors.append(vec)\n",
    "            cpdnames_tsne.append(tsne)\n",
    "            cpdnames_umap.append(umap)\n",
    "            cnames_for_scl.append(name)\n",
    "            spec_to_plot.append(s)\n",
    "            source_instruments.append(s.get(\"source_instrument\"))\n",
    "            inchikey_to_plot.append(inchikey)\n",
    "\n",
    "cnames_tsne = np.stack(cpdnames_tsne)\n",
    "cnames_umap = np.stack(cpdnames_umap)\n",
    "cnames_vecs = np.stack(cpdnames_vectors)\n",
    "instruments = np.stack(source_instruments)"
   ]
  },
  {
   "cell_type": "code",
   "execution_count": null,
   "id": "282c50eb",
   "metadata": {
    "scrolled": true
   },
   "outputs": [],
   "source": [
    "print(len(cnames_tsne))\n",
    "print(len(cnames_vecs))\n",
    "print(len(cnames_umap))\n",
    "print(len(cnames_for_scl))\n",
    "print(len(instruments))\n",
    "print(len(spec_to_plot))"
   ]
  },
  {
   "cell_type": "markdown",
   "id": "a2d67cb9",
   "metadata": {},
   "source": [
    "Plot based on **old** t-SNE and UMAP"
   ]
  },
  {
   "cell_type": "code",
   "execution_count": null,
   "id": "52e3f197",
   "metadata": {},
   "outputs": [],
   "source": [
    "cnamesplot_dataset = pd.DataFrame(cnames_vecs, index=cnames_for_scl,\n",
    "                            columns = [str(i) for i in range(cnames_vecs.shape[1])])"
   ]
  },
  {
   "cell_type": "code",
   "execution_count": null,
   "id": "9bda2938",
   "metadata": {},
   "outputs": [],
   "source": [
    "cnamesplot_dataset['tsne-2d-one'] = cnames_tsne[:,0]\n",
    "cnamesplot_dataset['tsne-2d-two'] = cnames_tsne[:,1]\n",
    "\n",
    "#make the scatterplot using seaborn\n",
    "plt.figure(figsize=(15,9)) #adjust plot size for easier interpretation\n",
    "plot = sns.scatterplot(x=\"tsne-2d-one\", y=\"tsne-2d-two\",\n",
    "                hue=cnamesplot_dataset.index,\n",
    "                #palette=sns.color_palette(\"hls\", 29),\n",
    "                data=cnamesplot_dataset, legend=False, alpha=0.3, s=20)\n",
    "\n",
    "plot.set(xlim=(-55, 55))\n",
    "plot.set(ylim=(-55, 55))\n",
    "\n",
    "#position the legend next to the graph; edit integers to change position\n",
    "#WARNING! If the legend causes the plot to be too large, it will not be plotted!\n",
    "\n",
    "'''\n",
    "box = plot.get_position()\n",
    "plot.set_position([box.x0, box.y0, box.width * 0.85, box.height]) # resize position\n",
    "\n",
    "# Put a legend to the right side\n",
    "plot.legend(loc='center right', bbox_to_anchor=(1.3, 0.5), ncol=1)\n",
    "'''"
   ]
  },
  {
   "cell_type": "code",
   "execution_count": null,
   "id": "57845a02",
   "metadata": {},
   "outputs": [],
   "source": [
    "cnamesplot_dataset['UMAP-one'] = cnames_umap[:,0]\n",
    "cnamesplot_dataset['UMAP-two'] = cnames_umap[:,1]\n",
    "\n",
    "#make the scatterplot using seaborn\n",
    "plt.figure(figsize=(15,9)) #adjust plot size for easier interpretation\n",
    "plot = sns.scatterplot(x=\"UMAP-one\", y=\"UMAP-two\",\n",
    "                hue=cnamesplot_dataset.index, data=cnamesplot_dataset,\n",
    "                #palette=sns.color_palette(\"hls\", 37),\n",
    "                legend=False, alpha=0.3, s=20)\n",
    "\n",
    "plot.set(xlim=(-6, 24))\n",
    "plot.set(ylim=(-13, 18))\n",
    "\n",
    "#position the legend next to the graph; edit integers to change position\n",
    "#WARNING! If the legend causes the plot to be too large, it will not be plotted!\n",
    "'''\n",
    "box = plot.get_position()\n",
    "plot.set_position([box.x0, box.y0, box.width * 0.85, box.height]) # resize position\n",
    "\n",
    "# Put a legend to the right side\n",
    "plot.legend(loc='center right', bbox_to_anchor=(2.3, 0.5), ncol=1)\n",
    "'''"
   ]
  },
  {
   "cell_type": "markdown",
   "id": "d1a26c6e",
   "metadata": {},
   "source": [
    "Perform **new** t-SNE and UMAP and plot those"
   ]
  },
  {
   "cell_type": "code",
   "execution_count": null,
   "id": "a782ba08",
   "metadata": {},
   "outputs": [],
   "source": [
    "cnamesplot_dataset = pd.DataFrame(cnames_vecs, index=cnames_for_scl,\n",
    "                            columns = [str(i) for i in range(cnames_vecs.shape[1])])"
   ]
  },
  {
   "cell_type": "code",
   "execution_count": null,
   "id": "cf180cb4",
   "metadata": {},
   "outputs": [],
   "source": [
    "tsne_cnames = TSNE(n_components=2, random_state = 35)\n",
    "tsne_cnames_results = tsne_cnames.fit_transform(cnamesplot_dataset)"
   ]
  },
  {
   "cell_type": "code",
   "execution_count": null,
   "id": "5c92b972",
   "metadata": {},
   "outputs": [],
   "source": [
    "cnamesplot_dataset['tsne-2d-one-rerun'] = tsne_cnames_results[:,0]\n",
    "cnamesplot_dataset['tsne-2d-two-rerun'] = tsne_cnames_results[:,1]\n",
    "\n",
    "#make the scatterplot using seaborn\n",
    "plt.figure(figsize=(15,9)) #adjust plot size for easier interpretation\n",
    "plot = sns.scatterplot(x=\"tsne-2d-one-rerun\", y=\"tsne-2d-two-rerun\",\n",
    "                hue=cnamesplot_dataset.index,\n",
    "                #palette=sns.color_palette(\"hls\", 37),\n",
    "                data=cnamesplot_dataset, legend=False, alpha=0.3, s=20)\n",
    "\n",
    "#position the legend next to the graph; edit integers to change position\n",
    "#WARNING! If the legend causes the plot to be too large, it will not be plotted!\n",
    "'''\n",
    "box = plot.get_position()\n",
    "plot.set_position([box.x0, box.y0, box.width * 0.85, box.height]) # resize position\n",
    "\n",
    "# Put a legend to the right side\n",
    "plot.legend(loc='center right', bbox_to_anchor=(2.3, 0.5), ncol=1)\n",
    "'''"
   ]
  },
  {
   "cell_type": "code",
   "execution_count": null,
   "id": "fafce7f4",
   "metadata": {},
   "outputs": [],
   "source": [
    "#select spectra from the plot above\n",
    "tsne_sub_cluster_spec_list = [] #list for selected spectra\n",
    "tsne_sub_info_index = [] #index list for the new dataset\n",
    "selected_vectors = [] #list of vectors selected with the \"grid\" below\n",
    "#if 3 < coordinate[0] < 17 and -3 < coordinate[1] < 17:\n",
    "#if 8 < coordinate[0] < 14 and 71 < coordinate[1] < 85:\n",
    "for s, coordinate, vec in zip(spec_to_plot, tsne_cnames_results, cnames_vecs):\n",
    "    if 8 < coordinate[0] < 14 and 71 < coordinate[1] < 85:\n",
    "        tsne_sub_cluster_spec_list.append(s)\n",
    "        tsne_sub_info_index.append(str(coordinates[0]) + \", \" + str(coordinates[1]))\n",
    "        selected_vectors.append(vec)\n",
    "        \n",
    "sel_vecs = np.stack(selected_vectors)\n",
    "print(len(tsne_sub_cluster_spec_list))\n",
    "print(len(tsne_sub_info_index))\n",
    "print(len(sel_vecs))"
   ]
  },
  {
   "cell_type": "code",
   "execution_count": null,
   "id": "8628a688",
   "metadata": {},
   "outputs": [],
   "source": [
    "interested_cols = [\"compound_name\", \"adduct\", \"source_instrument\", \"parent_mass\", \"inchikey\", \"smiles\"]\n",
    "tsne_sub_info = []\n",
    "for s in tsne_sub_cluster_spec_list:\n",
    "    s_info = []\n",
    "    for col in interested_cols:\n",
    "        s_info.append(s.metadata.get(col, \"\"))\n",
    "    tsne_sub_info.append(s_info)"
   ]
  },
  {
   "cell_type": "code",
   "execution_count": null,
   "id": "d38634be",
   "metadata": {},
   "outputs": [],
   "source": [
    "tsne_sub_info_df = pd.DataFrame(tsne_sub_info, index=tsne_sub_info_index,\n",
    "                       columns=[col for col in interested_cols])\n",
    "tsne_sub_info_df.to_csv(\"tSNE_flavonoid_glycosides_middle_cluster.csv\")"
   ]
  },
  {
   "cell_type": "code",
   "execution_count": null,
   "id": "d221cf4f",
   "metadata": {},
   "outputs": [],
   "source": [
    "from rdkit import Chem\n",
    "from rdkit.Chem import Draw\n",
    "\n",
    "smiles_list = [] #make empty list\n",
    "for s in tsne_sub_cluster_spec_list:\n",
    "    smiles = s.get(\"smiles\")\n",
    "    mol = Chem.MolFromSmiles(smiles)\n",
    "    smiles_list.append(mol) #append all m's to the list 'ms'\n",
    "    #Draw.MolToFile(mol, f\"compound_{i}.png\") #write to file\n",
    "    \n",
    "Chem.Draw.MolsToGridImage(smiles_list) #draws all m's from the list 'ms'"
   ]
  },
  {
   "cell_type": "code",
   "execution_count": null,
   "id": "127857ca",
   "metadata": {},
   "outputs": [],
   "source": [
    "import umap\n",
    "\n",
    "umap_cnames_results = umap.UMAP(random_state=np.random.RandomState(35)).fit_transform(cnamesplot_dataset)"
   ]
  },
  {
   "cell_type": "code",
   "execution_count": null,
   "id": "06e205c2",
   "metadata": {},
   "outputs": [],
   "source": [
    "cnamesplot_dataset['UMAP-one-rerun'] = umap_cnames_results[:,0]\n",
    "cnamesplot_dataset['UMAP-two-rerun'] = umap_cnames_results[:,1]\n",
    "\n",
    "#make the scatterplot using seaborn\n",
    "plt.figure(figsize=(15,9)) #adjust plot size for easier interpretation\n",
    "plot = sns.scatterplot(x=\"UMAP-one-rerun\", y=\"UMAP-two-rerun\",\n",
    "                hue=cnamesplot_dataset.index,\n",
    "                #palette=sns.color_palette(\"hls\", 37),\n",
    "                data=cnamesplot_dataset, legend=False, alpha=0.3, s=20)\n",
    "\n",
    "\n",
    "\n",
    "plot.set(xlim=(-6.5, 9.6))\n",
    "plot.set(ylim=(1, 18))\n",
    "\n",
    "#position the legend next to the graph; edit integers to change position\n",
    "#WARNING! If the legend causes the plot to be too large, it will not be plotted!\n",
    "'''\n",
    "box = plot.get_position()\n",
    "plot.set_position([box.x0, box.y0, box.width * 0.85, box.height]) # resize position\n",
    "\n",
    "# Put a legend to the right side\n",
    "plot.legend(loc='center right', bbox_to_anchor=(2.3, 0.5), ncol=1)\n",
    "'''"
   ]
  },
  {
   "cell_type": "code",
   "execution_count": null,
   "id": "a0ba3e95",
   "metadata": {},
   "outputs": [],
   "source": [
    "umap_sub_cluster_spec_list = [] #list for selected spectra\n",
    "umap_sub_info_index = []\n",
    "\n",
    "for s, coordinate in zip(spec_to_plot, umap_cnames_results):\n",
    "    if coordinate[1] > 500:\n",
    "        umap_sub_cluster_spec_list.append(s)\n",
    "        umap_sub_info_index.append(str(coordinates[0]) + \", \" + str(coordinates[1]))\n",
    "print(len(umap_sub_cluster_spec_list))"
   ]
  },
  {
   "cell_type": "code",
   "execution_count": null,
   "id": "3b5799fc",
   "metadata": {},
   "outputs": [],
   "source": [
    "interested_cols = [\"compound_name\", \"adduct\", \"source_instrument\", \"parent_mass\", \"inchikey\", \"smiles\"]\n",
    "umap_sub_info = []\n",
    "for s in umap_sub_cluster_spec_list:\n",
    "    s_info = []\n",
    "    for col in interested_cols:\n",
    "        s_info.append(s.metadata.get(col, \"\"))\n",
    "    umap_sub_info.append(s_info)"
   ]
  },
  {
   "cell_type": "code",
   "execution_count": null,
   "id": "203bc57e",
   "metadata": {},
   "outputs": [],
   "source": [
    "umap_sub_info_df = pd.DataFrame(umap_sub_info, index=umap_sub_info_index,\n",
    "                       columns=[col for col in interested_cols])\n",
    "#umap_sub_info_df.to_csv(\"PCAInfo_df_40x40_MFYSYFVPBJMHGN_2.csv\")"
   ]
  },
  {
   "cell_type": "markdown",
   "id": "786c1b3e",
   "metadata": {},
   "source": [
    "Check where the t-SNE selected vectors are plotted on UMAP:"
   ]
  },
  {
   "cell_type": "code",
   "execution_count": null,
   "id": "4b02f971",
   "metadata": {},
   "outputs": [],
   "source": [
    "umap_vectors = []\n",
    "umap_coordinates = []\n",
    "\n",
    "for s, coordinate, vec, umap_coord in zip(spec_to_plot, tsne_cnames_results, cnames_vecs, umap_cnames_results):\n",
    "    if 3 < coordinate[0] < 17 and -3 < coordinate[1] < 17:\n",
    "        umap_vectors.append(vec)\n",
    "        umap_coordinates.append(umap_coord)\n",
    "\n",
    "umap_coords = np.stack(umap_coordinates)\n",
    "umap_vecs = np.stack(umap_vectors)\n",
    "print(len(umap_vecs))\n",
    "print(len(umap_coords))"
   ]
  },
  {
   "cell_type": "code",
   "execution_count": null,
   "id": "47595198",
   "metadata": {},
   "outputs": [],
   "source": [
    "test_dataset = pd.DataFrame(umap_vecs, index=tsne_sub_info_index,\n",
    "                            columns = [str(i) for i in range(umap_vecs.shape[1])])"
   ]
  },
  {
   "cell_type": "code",
   "execution_count": null,
   "id": "646c244b",
   "metadata": {},
   "outputs": [],
   "source": [
    "test_dataset['UMAP-one'] = umap_coords[:,0]\n",
    "test_dataset['UMAP-two'] = umap_coords[:,1]\n",
    "\n",
    "#make the scatterplot using seaborn\n",
    "plt.figure(figsize=(15,9)) #adjust plot size for easier interpretation\n",
    "plot = sns.scatterplot(x=\"UMAP-one\", y=\"UMAP-two\",\n",
    "                hue=test_dataset.index,\n",
    "                #palette=sns.color_palette(\"hls\", 37),\n",
    "                data=test_dataset, legend=False, alpha=0.3, s=20)\n",
    "\n",
    "plot.set(xlim=(-6.5, 9.6))\n",
    "plot.set(ylim=(1, 18))\n",
    "'''\n",
    "box = plot.get_position()\n",
    "plot.set_position([box.x0, box.y0, box.width * 0.85, box.height]) # resize position\n",
    "\n",
    "# Put a legend to the right side\n",
    "plot.legend(loc='center right', bbox_to_anchor=(2.3, 0.5), ncol=1)\n",
    "'''"
   ]
  }
 ],
 "metadata": {
  "kernelspec": {
   "display_name": "Python 3",
   "language": "python",
   "name": "python3"
  },
  "language_info": {
   "codemirror_mode": {
    "name": "ipython",
    "version": 3
   },
   "file_extension": ".py",
   "mimetype": "text/x-python",
   "name": "python",
   "nbconvert_exporter": "python",
   "pygments_lexer": "ipython3",
   "version": "3.8.5"
  }
 },
 "nbformat": 4,
 "nbformat_minor": 5
}
